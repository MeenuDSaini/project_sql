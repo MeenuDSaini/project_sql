{
  "cells": [
    {
      "cell_type": "markdown",
      "metadata": {
        "id": "TuwSdWZlgveP"
      },
      "source": [
        "# SQL Project\n",
        "You were hired by Ironhack to perform an Analytics Consulting Project entitled: competitive landscape.\n",
        "\n",
        "Your mission is to create and populate an appropriate database with many coding schools that are our competition, as well as design an suitable queries that answer business questions of interest (to be defined by you)\n"
      ]
    },
    {
      "cell_type": "markdown",
      "metadata": {
        "id": "hXDGm8_RgG-K"
      },
      "source": [
        "**Suggested Steps in the Project:**\n",
        "\n",
        "\n",
        "*   Read this notebook and understand each function. Comment the code appropriately\n",
        "\n",
        "*   Populate the list of schools with a wider variety of schools (how are you going to get the school ID?)\n",
        "\n",
        "* Take a look at the obtained dataframes. What dimensions do you have? what keys do you have? how could the different dataframes be connected?\n",
        "\n",
        "* Go back to the drawing board and try to create an entity relationship diagram for tables available\n",
        "\n",
        "* Once you have the schemas you want, you will need to:\n",
        "  - create the suitable SQL queries to create the tables and populate them\n",
        "  - run these queries using the appropriate Python connectors\n",
        "  \n",
        "* Bonus: How will this datamodel be updated in the future? Please write auxiliary functions that test the database for data quality issues. For example: how could you make sure you only include the most recent comments when you re-run the script?\n",
        "\n",
        "\n",
        "# Suggested Deliverables\n",
        "\n",
        "* 5-6 minute presentation of data model created, decision process and business analysis proposed\n",
        "\n",
        "* exported .sql file with the final schema\n",
        "\n",
        "* Supporting python files used to generate all logic\n",
        "\n",
        "* High level documentation explaining tables designed and focusing on update methods\n",
        "\n",
        "Crucial hint: check out the following tutorial:\n",
        "https://www.dataquest.io/blog/sql-insert-tutorial/\n"
      ]
    },
    {
      "cell_type": "code",
      "execution_count": 1,
      "metadata": {
        "id": "_AFkSNlsb9z0"
      },
      "outputs": [],
      "source": [
        "import pandas as pd\n",
        "from bs4 import BeautifulSoup\n",
        "import requests\n",
        "from pandas import json_normalize\n",
        "import re\n",
        "import numpy as np\n",
        "import time\n",
        "import multiprocessing\n",
        "import concurrent"
      ]
    },
    {
      "cell_type": "code",
      "execution_count": 2,
      "metadata": {
        "id": "0ypBHHSxoT90"
      },
      "outputs": [],
      "source": [
        "school_list = ['Springboard',\n",
        "             'Dataquest',\n",
        "             'Syntax Technologies',\n",
        "             'ironhack',\n",
        "             'tripleten',\n",
        "             'Colaberry',\n",
        "             'Maven Analytics',\n",
        "             'Udacity',\n",
        "             'BrainStation',\n",
        "             'CCS Learning Academy',\n",
        "             'Thinkful',\n",
        "             'General Assembly']"
      ]
    },
    {
      "cell_type": "code",
      "execution_count": 3,
      "metadata": {
        "id": "7p01DWgmoT90"
      },
      "outputs": [],
      "source": [
        "school_id_dict = {}"
      ]
    },
    {
      "cell_type": "code",
      "execution_count": 4,
      "metadata": {
        "colab": {
          "base_uri": "https://localhost:8080/"
        },
        "id": "JLnTdwveoT90",
        "outputId": "9068f7d5-e88f-4d62-eea5-040ad0ec2424"
      },
      "outputs": [
        {
          "name": "stdout",
          "output_type": "stream",
          "text": [
            "school ID for : Springboard/11035\n",
            "school ID for : Dataquest/10683\n",
            "school ID for : Syntax Technologies/11797\n",
            "school ID for : ironhack/10828\n",
            "school ID for : tripleten/11225\n",
            "school ID for : Colaberry/11718\n",
            "school ID for : Maven Analytics/11740\n",
            "school ID for : Udacity/11118\n",
            "school ID for : BrainStation/10571\n",
            "school ID for : CCS Learning Academy/11736\n",
            "school ID for : Thinkful/11098\n",
            "school ID for : General Assembly/10761\n",
            "School ID dictionary: {'springboard': 11035, 'dataquest': 10683, 'syntax-technologies': 11797, 'ironhack': 10828, 'tripleten': 11225, 'colaberry': 11718, 'maven-analytics': 11740, 'udacity': 11118, 'brainstation': 10571, 'ccs-learning-academy': 11736, 'thinkful': 11098, 'general-assembly': 10761}\n"
          ]
        }
      ],
      "source": [
        "for school_name in school_list:\n",
        "    url = f\"https://www.switchup.org/bootcamps/{school_name.lower().replace(' ', '-')}\"\n",
        "\n",
        "    headers = {'User-Agent': 'Mozilla/5.0 (Windows NT 10.0; Win64; x64) AppleWebKit/537.36 (KHTML, like Gecko) Chrome/111.0.0.0 Safari/537.36'}\n",
        "    response = requests.get(url, headers=headers)\n",
        "\n",
        "    if response.status_code == 200:\n",
        "        soup = BeautifulSoup(response.text, 'html.parser')\n",
        "        page_data_tag = soup.find('page-data')\n",
        "\n",
        "        if page_data_tag:\n",
        "            school_id = page_data_tag.get('school-id')\n",
        "            if school_id:\n",
        "                school_id_dict[school_name.lower().replace(' ','-')] = int(school_id)\n",
        "                print(f\"school ID for : {school_name}/{school_id}\")\n",
        "            else:\n",
        "                print(f\"School ID not found: {school_name}\")\n",
        "        else:\n",
        "            print(f\"Page data not found: {school_name}\")\n",
        "\n",
        "    else:\n",
        "        print(f\"Error: {response.status_code}\")\n",
        "\n",
        "print(\"School ID dictionary:\", school_id_dict)"
      ]
    },
    {
      "cell_type": "code",
      "execution_count": 5,
      "metadata": {
        "colab": {
          "base_uri": "https://localhost:8080/"
        },
        "id": "7ZZctc07oT91",
        "outputId": "ac03cdd6-bd85-4d4d-f8bc-70759402007f"
      },
      "outputs": [
        {
          "data": {
            "text/plain": [
              "{'springboard': 11035,\n",
              " 'dataquest': 10683,\n",
              " 'syntax-technologies': 11797,\n",
              " 'ironhack': 10828,\n",
              " 'tripleten': 11225,\n",
              " 'colaberry': 11718,\n",
              " 'maven-analytics': 11740,\n",
              " 'udacity': 11118,\n",
              " 'brainstation': 10571,\n",
              " 'ccs-learning-academy': 11736,\n",
              " 'thinkful': 11098,\n",
              " 'general-assembly': 10761}"
            ]
          },
          "execution_count": 5,
          "metadata": {},
          "output_type": "execute_result"
        }
      ],
      "source": [
        "school_id_dict"
      ]
    },
    {
      "cell_type": "code",
      "execution_count": 6,
      "metadata": {
        "id": "hWprKQIooT91"
      },
      "outputs": [],
      "source": [
        "def get_comments_school(school):\n",
        "    TAG_RE = re.compile(r'<[^>]+>')\n",
        "    # defines url to make api call to data -> dynamic with school if you want to scrape competition\n",
        "    url = \"https://www.switchup.org/chimera/v1/school-review-list?mainTemplate=school-review-list&path=%2Fbootcamps%2F\" + school + \"&isDataTarget=false&page=3&perPage=10000&simpleHtml=true&truncationLength=250\"\n",
        "    #makes get request and converts answer to json\n",
        "    # url defines the page of all the information, request is made, and information is returned to data variable\n",
        "    data = requests.get(url).json()\n",
        "    #converts json to dataframe\n",
        "    reviews =  pd.DataFrame(data['content']['reviews'])\n",
        "\n",
        "    #aux function to apply regex and remove tags\n",
        "    def remove_tags(x):\n",
        "        return TAG_RE.sub('',x)\n",
        "    reviews['review_body'] = reviews['body'].apply(remove_tags)\n",
        "    reviews['school'] = school\n",
        "    return reviews"
      ]
    },
    {
      "cell_type": "code",
      "execution_count": 7,
      "metadata": {
        "colab": {
          "base_uri": "https://localhost:8080/"
        },
        "id": "g4P3fb6ioT92",
        "outputId": "4f6824f7-a424-4cab-9231-003f3579d5f7"
      },
      "outputs": [
        {
          "name": "stdout",
          "output_type": "stream",
          "text": [
            "springboard\n",
            "dataquest\n",
            "syntax-technologies\n",
            "ironhack\n",
            "tripleten\n",
            "colaberry\n",
            "maven-analytics\n",
            "udacity\n",
            "brainstation\n",
            "ccs-learning-academy\n",
            "thinkful\n",
            "general-assembly\n"
          ]
        }
      ],
      "source": [
        "# could you write this as a list comprehension? ;)\n",
        "comments = []\n",
        "\n",
        "for school in school_id_dict.keys():\n",
        "    print(school)\n",
        "    comments.append(get_comments_school(school))\n",
        "comments = pd.concat(comments)"
      ]
    },
    {
      "cell_type": "code",
      "execution_count": 8,
      "metadata": {
        "colab": {
          "base_uri": "https://localhost:8080/"
        },
        "id": "dFkyzxv9oT92",
        "outputId": "92d0ed2f-1d9b-4186-9b71-f3b68bae7316"
      },
      "outputs": [
        {
          "data": {
            "text/plain": [
              "id                    0\n",
              "name                  0\n",
              "anonymous             0\n",
              "hostProgramName    4022\n",
              "graduatingYear       57\n",
              "isAlumni              1\n",
              "jobTitle           2614\n",
              "tagline               0\n",
              "body                  0\n",
              "rawBody               0\n",
              "createdAt             0\n",
              "queryDate             0\n",
              "program             907\n",
              "user                  0\n",
              "overallScore          9\n",
              "comments              0\n",
              "overall               9\n",
              "curriculum          176\n",
              "jobSupport          791\n",
              "review_body           0\n",
              "school                0\n",
              "dtype: int64"
            ]
          },
          "execution_count": 8,
          "metadata": {},
          "output_type": "execute_result"
        }
      ],
      "source": [
        "comments.isna().sum()"
      ]
    },
    {
      "cell_type": "code",
      "execution_count": 9,
      "metadata": {
        "colab": {
          "base_uri": "https://localhost:8080/"
        },
        "id": "ThzMPabaoT92",
        "outputId": "2fb0fdd6-8e38-483b-c876-aea73ebd7db5"
      },
      "outputs": [
        {
          "data": {
            "text/plain": [
              "2018    1466\n",
              "2019    1106\n",
              "2020    1009\n",
              "2017     964\n",
              "2021     768\n",
              "2022     616\n",
              "2016     421\n",
              "2023     328\n",
              "2015     183\n",
              "2014      47\n",
              "2012      13\n",
              "2013      10\n",
              "2011       1\n",
              "Name: graduatingYear, dtype: Int64"
            ]
          },
          "execution_count": 9,
          "metadata": {},
          "output_type": "execute_result"
        }
      ],
      "source": [
        "# transform years from float to integers\n",
        "comments['graduatingYear'] = comments['graduatingYear'].astype('Int64')\n",
        "comments.graduatingYear.value_counts()"
      ]
    },
    {
      "cell_type": "code",
      "execution_count": 10,
      "metadata": {
        "colab": {
          "base_uri": "https://localhost:8080/"
        },
        "id": "oivRiYQRoT93",
        "outputId": "5d344726-551e-423d-80b5-a8b413f48808"
      },
      "outputs": [
        {
          "data": {
            "text/plain": [
              "Great Experience                       30\n",
              "Great experience                       23\n",
              "Amazing experience                     23\n",
              "Great experience!                      22\n",
              "Amazing                                18\n",
              "                                       ..\n",
              "My best decision.                       1\n",
              "A social and work oriented bootcamp     1\n",
              "Very happy with my choice               1\n",
              "Awsome                                  1\n",
              "NULL                                    1\n",
              "Name: tagline, Length: 6312, dtype: int64"
            ]
          },
          "execution_count": 10,
          "metadata": {},
          "output_type": "execute_result"
        }
      ],
      "source": [
        "comments.tagline.value_counts()"
      ]
    },
    {
      "cell_type": "code",
      "execution_count": 11,
      "metadata": {
        "colab": {
          "base_uri": "https://localhost:8080/"
        },
        "id": "DkbklgdfoT93",
        "outputId": "bf17551f-450f-4fc2-960a-49ffd322de2e"
      },
      "outputs": [
        {
          "name": "stdout",
          "output_type": "stream",
          "text": [
            "Great Experience                         88\n",
            "Amazing Experience                       54\n",
            "Springboard Data Science Career Track    15\n",
            "Excellent                                15\n",
            "Life changing                            13\n",
            "                                         ..\n",
            "My best decision.                         1\n",
            "A social and work oriented bootcamp       1\n",
            "Very happy with my choice                 1\n",
            "Awsome                                    1\n",
            "NULL                                      1\n",
            "Name: tagline, Length: 6307, dtype: int64\n"
          ]
        }
      ],
      "source": [
        "# uniforming tag values in tagline\n",
        "tagline_mapping = {\n",
        "    'Great Experience': ['Great Experience', 'Great experience', 'Great experience!', 'Great Experience', 'Great'],\n",
        "    'Amazing Experience': ['Amazing experience', 'Amazing']\n",
        "}\n",
        "\n",
        "comments['tagline'] = comments['tagline'].apply(lambda x: next((key for key, value in tagline_mapping.items() if x in value), x))\n",
        "\n",
        "# check\n",
        "print(comments['tagline'].value_counts())"
      ]
    },
    {
      "cell_type": "code",
      "execution_count": 12,
      "metadata": {
        "id": "3uhKbU9YoT93"
      },
      "outputs": [],
      "source": [
        "# columns body and rawBody contain uncleaned data and is replaceable by the cleaned review_body column.\n",
        "# queryData contains the same info as createdAt.\n",
        "comments.drop(columns={'body', 'rawBody', 'queryDate'}, inplace=True)"
      ]
    },
    {
      "cell_type": "code",
      "execution_count": 13,
      "metadata": {
        "id": "N0-gKnT5oT93"
      },
      "outputs": [],
      "source": [
        "# column user is empty while column comments is a list of each comments for every review.\n",
        "# We choose to not keep it as we already have thousands of single comments\n",
        "comments.drop(columns={'user', 'comments'}, inplace=True)"
      ]
    },
    {
      "cell_type": "code",
      "execution_count": 14,
      "metadata": {
        "id": "lGoMBJx6oT93"
      },
      "outputs": [],
      "source": [
        "comments['school_id'] = comments.school.map(school_id_dict)"
      ]
    },
    {
      "cell_type": "code",
      "execution_count": 15,
      "metadata": {},
      "outputs": [],
      "source": [
        "#after having multiple issues when importing the comments.csv in SQL, we went 'a little' deeper with the cleaning..."
      ]
    },
    {
      "cell_type": "code",
      "execution_count": 16,
      "metadata": {},
      "outputs": [
        {
          "data": {
            "text/plain": [
              "id                    0\n",
              "name                  0\n",
              "anonymous             0\n",
              "hostProgramName    4022\n",
              "graduatingYear       57\n",
              "isAlumni              1\n",
              "jobTitle           2614\n",
              "tagline               0\n",
              "createdAt             0\n",
              "program             907\n",
              "overallScore          9\n",
              "overall               9\n",
              "curriculum          176\n",
              "jobSupport          791\n",
              "review_body           0\n",
              "school                0\n",
              "school_id             0\n",
              "dtype: int64"
            ]
          },
          "execution_count": 16,
          "metadata": {},
          "output_type": "execute_result"
        }
      ],
      "source": [
        "comments.isna().sum()"
      ]
    },
    {
      "cell_type": "code",
      "execution_count": 17,
      "metadata": {},
      "outputs": [],
      "source": [
        "comments.dropna(subset=['overallScore'], inplace=True)"
      ]
    },
    {
      "cell_type": "code",
      "execution_count": 18,
      "metadata": {},
      "outputs": [],
      "source": [
        "comments.dropna(subset=['curriculum'], inplace=True)"
      ]
    },
    {
      "cell_type": "code",
      "execution_count": 19,
      "metadata": {},
      "outputs": [],
      "source": [
        "comments.dropna(subset=['jobSupport'], inplace=True)"
      ]
    },
    {
      "cell_type": "code",
      "execution_count": 20,
      "metadata": {},
      "outputs": [],
      "source": [
        "comments.drop(998, inplace=True)"
      ]
    },
    {
      "cell_type": "code",
      "execution_count": 21,
      "metadata": {},
      "outputs": [],
      "source": [
        "comments['overallScore'] = pd.to_numeric(comments['overallScore'], errors='coerce')\n",
        "comments['overallScore'].dropna(inplace=True)"
      ]
    },
    {
      "cell_type": "code",
      "execution_count": 22,
      "metadata": {},
      "outputs": [],
      "source": [
        "comments['hostProgramName'].fillna('Not specified', inplace=True)"
      ]
    },
    {
      "cell_type": "code",
      "execution_count": 23,
      "metadata": {},
      "outputs": [],
      "source": [
        "comments['jobTitle'].fillna('Not specified', inplace=True)"
      ]
    },
    {
      "cell_type": "code",
      "execution_count": 24,
      "metadata": {},
      "outputs": [],
      "source": [
        "comments.dropna(subset='graduatingYear', inplace=True)"
      ]
    },
    {
      "cell_type": "code",
      "execution_count": 25,
      "metadata": {
        "colab": {
          "base_uri": "https://localhost:8080/",
          "height": 788
        },
        "id": "y7BUlUGGoT93",
        "outputId": "7619dc52-0c21-4697-ed3e-e5ac9ea519e0"
      },
      "outputs": [],
      "source": [
        "comments['curriculum'] = pd.to_numeric(comments['curriculum'], errors='coerce')"
      ]
    },
    {
      "cell_type": "code",
      "execution_count": 26,
      "metadata": {},
      "outputs": [],
      "source": [
        "comments['jobSupport'] = pd.to_numeric(comments['jobSupport'], errors='coerce')"
      ]
    },
    {
      "cell_type": "code",
      "execution_count": 27,
      "metadata": {
        "colab": {
          "base_uri": "https://localhost:8080/"
        },
        "id": "fbTB3VyUoT93",
        "outputId": "e22499fe-12d5-420d-9507-db52296899a4"
      },
      "outputs": [
        {
          "data": {
            "text/plain": [
              "Index(['id', 'name', 'anonymous', 'hostProgramName', 'graduatingYear',\n",
              "       'isAlumni', 'jobTitle', 'tagline', 'createdAt', 'program',\n",
              "       'overallScore', 'overall', 'curriculum', 'jobSupport', 'review_body',\n",
              "       'school', 'school_id'],\n",
              "      dtype='object')"
            ]
          },
          "execution_count": 27,
          "metadata": {},
          "output_type": "execute_result"
        }
      ],
      "source": [
        "comments.columns"
      ]
    },
    {
      "cell_type": "code",
      "execution_count": 28,
      "metadata": {
        "colab": {
          "base_uri": "https://localhost:8080/"
        },
        "id": "Br9K3LKeoT93",
        "outputId": "9f88d561-cbe9-41c3-d4c6-1e57caeb91ee"
      },
      "outputs": [],
      "source": [
        "comments.drop(columns={'anonymous', 'overall', 'program', 'createdAt'}, inplace=True)"
      ]
    },
    {
      "cell_type": "code",
      "execution_count": 29,
      "metadata": {
        "id": "OzltM2AVoT94"
      },
      "outputs": [
        {
          "data": {
            "text/plain": [
              "Index(['id', 'name', 'hostProgramName', 'graduatingYear', 'isAlumni',\n",
              "       'jobTitle', 'tagline', 'overallScore', 'curriculum', 'jobSupport',\n",
              "       'review_body', 'school', 'school_id'],\n",
              "      dtype='object')"
            ]
          },
          "execution_count": 29,
          "metadata": {},
          "output_type": "execute_result"
        }
      ],
      "source": [
        "comments.columns"
      ]
    },
    {
      "cell_type": "code",
      "execution_count": 30,
      "metadata": {},
      "outputs": [
        {
          "data": {
            "text/html": [
              "<div>\n",
              "<style scoped>\n",
              "    .dataframe tbody tr th:only-of-type {\n",
              "        vertical-align: middle;\n",
              "    }\n",
              "\n",
              "    .dataframe tbody tr th {\n",
              "        vertical-align: top;\n",
              "    }\n",
              "\n",
              "    .dataframe thead th {\n",
              "        text-align: right;\n",
              "    }\n",
              "</style>\n",
              "<table border=\"1\" class=\"dataframe\">\n",
              "  <thead>\n",
              "    <tr style=\"text-align: right;\">\n",
              "      <th></th>\n",
              "      <th>id</th>\n",
              "      <th>name</th>\n",
              "      <th>hostProgramName</th>\n",
              "      <th>graduatingYear</th>\n",
              "      <th>isAlumni</th>\n",
              "      <th>jobTitle</th>\n",
              "      <th>tagline</th>\n",
              "      <th>overallScore</th>\n",
              "      <th>curriculum</th>\n",
              "      <th>jobSupport</th>\n",
              "      <th>review_body</th>\n",
              "      <th>school</th>\n",
              "      <th>school_id</th>\n",
              "    </tr>\n",
              "  </thead>\n",
              "  <tbody>\n",
              "    <tr>\n",
              "      <th>0</th>\n",
              "      <td>306638</td>\n",
              "      <td>Constance Sun</td>\n",
              "      <td>Not specified</td>\n",
              "      <td>2023</td>\n",
              "      <td>False</td>\n",
              "      <td></td>\n",
              "      <td>Very accommodating. Take Springboard if you wa...</td>\n",
              "      <td>3.7</td>\n",
              "      <td>4.0</td>\n",
              "      <td>3.0</td>\n",
              "      <td>When I was looking at which bootcamp to do for...</td>\n",
              "      <td>springboard</td>\n",
              "      <td>11035</td>\n",
              "    </tr>\n",
              "    <tr>\n",
              "      <th>1</th>\n",
              "      <td>306549</td>\n",
              "      <td>Daniel Dluzynski</td>\n",
              "      <td>Not specified</td>\n",
              "      <td>2023</td>\n",
              "      <td>False</td>\n",
              "      <td></td>\n",
              "      <td>Extensive and well built curriculum</td>\n",
              "      <td>4.3</td>\n",
              "      <td>5.0</td>\n",
              "      <td>4.0</td>\n",
              "      <td>This course is great for beginners. The curric...</td>\n",
              "      <td>springboard</td>\n",
              "      <td>11035</td>\n",
              "    </tr>\n",
              "    <tr>\n",
              "      <th>2</th>\n",
              "      <td>306505</td>\n",
              "      <td>Jonathan Chiu</td>\n",
              "      <td>Not specified</td>\n",
              "      <td>2023</td>\n",
              "      <td>False</td>\n",
              "      <td></td>\n",
              "      <td>Join if you're looking to structure &amp;amp; Netw...</td>\n",
              "      <td>4.0</td>\n",
              "      <td>4.0</td>\n",
              "      <td>4.0</td>\n",
              "      <td>If you find yourself unsure of where to begin,...</td>\n",
              "      <td>springboard</td>\n",
              "      <td>11035</td>\n",
              "    </tr>\n",
              "    <tr>\n",
              "      <th>3</th>\n",
              "      <td>306504</td>\n",
              "      <td>Anonymous</td>\n",
              "      <td>Not specified</td>\n",
              "      <td>2023</td>\n",
              "      <td>False</td>\n",
              "      <td></td>\n",
              "      <td>Join if you're looking to structure &amp;amp; Netw...</td>\n",
              "      <td>4.0</td>\n",
              "      <td>4.0</td>\n",
              "      <td>4.0</td>\n",
              "      <td>If you find yourself unsure of where to begin,...</td>\n",
              "      <td>springboard</td>\n",
              "      <td>11035</td>\n",
              "    </tr>\n",
              "    <tr>\n",
              "      <th>4</th>\n",
              "      <td>306451</td>\n",
              "      <td>Anonymous</td>\n",
              "      <td>Not specified</td>\n",
              "      <td>2023</td>\n",
              "      <td>True</td>\n",
              "      <td>UX/UI Design</td>\n",
              "      <td>Wonderful</td>\n",
              "      <td>4.3</td>\n",
              "      <td>5.0</td>\n",
              "      <td>4.0</td>\n",
              "      <td>Pros: I found the Springboard bootcamp to be i...</td>\n",
              "      <td>springboard</td>\n",
              "      <td>11035</td>\n",
              "    </tr>\n",
              "    <tr>\n",
              "      <th>...</th>\n",
              "      <td>...</td>\n",
              "      <td>...</td>\n",
              "      <td>...</td>\n",
              "      <td>...</td>\n",
              "      <td>...</td>\n",
              "      <td>...</td>\n",
              "      <td>...</td>\n",
              "      <td>...</td>\n",
              "      <td>...</td>\n",
              "      <td>...</td>\n",
              "      <td>...</td>\n",
              "      <td>...</td>\n",
              "      <td>...</td>\n",
              "    </tr>\n",
              "    <tr>\n",
              "      <th>981</th>\n",
              "      <td>232579</td>\n",
              "      <td>Anonymous</td>\n",
              "      <td>UX/UI Design</td>\n",
              "      <td>2015</td>\n",
              "      <td>True</td>\n",
              "      <td>Not specified</td>\n",
              "      <td>GA is great on most levels</td>\n",
              "      <td>4.0</td>\n",
              "      <td>4.0</td>\n",
              "      <td>4.0</td>\n",
              "      <td>Pros: Great environment, phenomenal network, a...</td>\n",
              "      <td>general-assembly</td>\n",
              "      <td>10761</td>\n",
              "    </tr>\n",
              "    <tr>\n",
              "      <th>982</th>\n",
              "      <td>232573</td>\n",
              "      <td>Carlye Cunniff</td>\n",
              "      <td>Not specified</td>\n",
              "      <td>2015</td>\n",
              "      <td>True</td>\n",
              "      <td>Not specified</td>\n",
              "      <td>General Assembly UXDI an amazing experience, i...</td>\n",
              "      <td>4.3</td>\n",
              "      <td>4.0</td>\n",
              "      <td>4.0</td>\n",
              "      <td>I was beyond impressed by my experience at Gen...</td>\n",
              "      <td>general-assembly</td>\n",
              "      <td>10761</td>\n",
              "    </tr>\n",
              "    <tr>\n",
              "      <th>986</th>\n",
              "      <td>232490</td>\n",
              "      <td>Anonymous</td>\n",
              "      <td>Not specified</td>\n",
              "      <td>2015</td>\n",
              "      <td>True</td>\n",
              "      <td></td>\n",
              "      <td>Incredible Learning Opportunity for Digital Ma...</td>\n",
              "      <td>5.0</td>\n",
              "      <td>5.0</td>\n",
              "      <td>5.0</td>\n",
              "      <td>I recently completed an Ad Optimization part t...</td>\n",
              "      <td>general-assembly</td>\n",
              "      <td>10761</td>\n",
              "    </tr>\n",
              "    <tr>\n",
              "      <th>991</th>\n",
              "      <td>232206</td>\n",
              "      <td>Anonymous</td>\n",
              "      <td>Not specified</td>\n",
              "      <td>2014</td>\n",
              "      <td>True</td>\n",
              "      <td></td>\n",
              "      <td>Not The Best Bootcamp I Could Have Chosen</td>\n",
              "      <td>1.7</td>\n",
              "      <td>2.0</td>\n",
              "      <td>1.0</td>\n",
              "      <td>I wouldn't say that Bitmaker was a bad experie...</td>\n",
              "      <td>general-assembly</td>\n",
              "      <td>10761</td>\n",
              "    </tr>\n",
              "    <tr>\n",
              "      <th>994</th>\n",
              "      <td>231691</td>\n",
              "      <td>Abby Howell</td>\n",
              "      <td>Not specified</td>\n",
              "      <td>2013</td>\n",
              "      <td>True</td>\n",
              "      <td>Software Developer at Cengage Learning</td>\n",
              "      <td>From 2nd grade teacher to full-stack web devel...</td>\n",
              "      <td>5.0</td>\n",
              "      <td>5.0</td>\n",
              "      <td>5.0</td>\n",
              "      <td>My experience at General Assembly's Web Develo...</td>\n",
              "      <td>general-assembly</td>\n",
              "      <td>10761</td>\n",
              "    </tr>\n",
              "  </tbody>\n",
              "</table>\n",
              "<p>6173 rows × 13 columns</p>\n",
              "</div>"
            ],
            "text/plain": [
              "         id              name hostProgramName  graduatingYear isAlumni  \\\n",
              "0    306638     Constance Sun   Not specified            2023    False   \n",
              "1    306549  Daniel Dluzynski   Not specified            2023    False   \n",
              "2    306505     Jonathan Chiu   Not specified            2023    False   \n",
              "3    306504         Anonymous   Not specified            2023    False   \n",
              "4    306451         Anonymous   Not specified            2023     True   \n",
              "..      ...               ...             ...             ...      ...   \n",
              "981  232579         Anonymous    UX/UI Design            2015     True   \n",
              "982  232573    Carlye Cunniff   Not specified            2015     True   \n",
              "986  232490         Anonymous   Not specified            2015     True   \n",
              "991  232206         Anonymous   Not specified            2014     True   \n",
              "994  231691       Abby Howell   Not specified            2013     True   \n",
              "\n",
              "                                   jobTitle  \\\n",
              "0                                             \n",
              "1                                             \n",
              "2                                             \n",
              "3                                             \n",
              "4                              UX/UI Design   \n",
              "..                                      ...   \n",
              "981                           Not specified   \n",
              "982                           Not specified   \n",
              "986                                           \n",
              "991                                           \n",
              "994  Software Developer at Cengage Learning   \n",
              "\n",
              "                                               tagline  overallScore  \\\n",
              "0    Very accommodating. Take Springboard if you wa...           3.7   \n",
              "1                  Extensive and well built curriculum           4.3   \n",
              "2    Join if you're looking to structure &amp; Netw...           4.0   \n",
              "3    Join if you're looking to structure &amp; Netw...           4.0   \n",
              "4                                            Wonderful           4.3   \n",
              "..                                                 ...           ...   \n",
              "981                         GA is great on most levels           4.0   \n",
              "982  General Assembly UXDI an amazing experience, i...           4.3   \n",
              "986  Incredible Learning Opportunity for Digital Ma...           5.0   \n",
              "991          Not The Best Bootcamp I Could Have Chosen           1.7   \n",
              "994  From 2nd grade teacher to full-stack web devel...           5.0   \n",
              "\n",
              "     curriculum  jobSupport  \\\n",
              "0           4.0         3.0   \n",
              "1           5.0         4.0   \n",
              "2           4.0         4.0   \n",
              "3           4.0         4.0   \n",
              "4           5.0         4.0   \n",
              "..          ...         ...   \n",
              "981         4.0         4.0   \n",
              "982         4.0         4.0   \n",
              "986         5.0         5.0   \n",
              "991         2.0         1.0   \n",
              "994         5.0         5.0   \n",
              "\n",
              "                                           review_body            school  \\\n",
              "0    When I was looking at which bootcamp to do for...       springboard   \n",
              "1    This course is great for beginners. The curric...       springboard   \n",
              "2    If you find yourself unsure of where to begin,...       springboard   \n",
              "3    If you find yourself unsure of where to begin,...       springboard   \n",
              "4    Pros: I found the Springboard bootcamp to be i...       springboard   \n",
              "..                                                 ...               ...   \n",
              "981  Pros: Great environment, phenomenal network, a...  general-assembly   \n",
              "982  I was beyond impressed by my experience at Gen...  general-assembly   \n",
              "986  I recently completed an Ad Optimization part t...  general-assembly   \n",
              "991  I wouldn't say that Bitmaker was a bad experie...  general-assembly   \n",
              "994  My experience at General Assembly's Web Develo...  general-assembly   \n",
              "\n",
              "     school_id  \n",
              "0        11035  \n",
              "1        11035  \n",
              "2        11035  \n",
              "3        11035  \n",
              "4        11035  \n",
              "..         ...  \n",
              "981      10761  \n",
              "982      10761  \n",
              "986      10761  \n",
              "991      10761  \n",
              "994      10761  \n",
              "\n",
              "[6173 rows x 13 columns]"
            ]
          },
          "execution_count": 30,
          "metadata": {},
          "output_type": "execute_result"
        }
      ],
      "source": [
        "comments"
      ]
    },
    {
      "cell_type": "code",
      "execution_count": 31,
      "metadata": {},
      "outputs": [
        {
          "data": {
            "text/plain": [
              "id                   int64\n",
              "name                object\n",
              "hostProgramName     object\n",
              "graduatingYear       Int64\n",
              "isAlumni            object\n",
              "jobTitle            object\n",
              "tagline             object\n",
              "overallScore       float64\n",
              "curriculum         float64\n",
              "jobSupport         float64\n",
              "review_body         object\n",
              "school              object\n",
              "school_id            int64\n",
              "dtype: object"
            ]
          },
          "execution_count": 31,
          "metadata": {},
          "output_type": "execute_result"
        }
      ],
      "source": [
        "comments.dtypes"
      ]
    },
    {
      "cell_type": "code",
      "execution_count": 32,
      "metadata": {
        "colab": {
          "base_uri": "https://localhost:8080/"
        },
        "id": "7j9YlBQ7oT94",
        "outputId": "790ff838-7cf9-41be-f943-1f921ec02730"
      },
      "outputs": [
        {
          "name": "stdout",
          "output_type": "stream",
          "text": [
            "springboard\n",
            "dataquest\n"
          ]
        },
        {
          "name": "stdout",
          "output_type": "stream",
          "text": [
            "syntax-technologies\n",
            "ironhack\n",
            "tripleten\n",
            "colaberry\n",
            "maven-analytics\n",
            "udacity\n",
            "brainstation\n",
            "ccs-learning-academy\n",
            "thinkful\n",
            "general-assembly\n"
          ]
        }
      ],
      "source": [
        "from pandas import json_normalize\n",
        "\n",
        "def get_school_info(school, school_id):\n",
        "    url = 'https://www.switchup.org/chimera/v1/bootcamp-data?mainTemplate=bootcamp-data%2Fdescription&path=%2Fbootcamps%2F'+ str(school) + '&isDataTarget=false&bootcampId='+ str(school_id) + '&logoTag=logo&truncationLength=250&readMoreOmission=...&readMoreText=Read%20More&readLessText=Read%20Less'\n",
        "\n",
        "    data = requests.get(url).json()\n",
        "\n",
        "    data.keys()\n",
        "\n",
        "    courses = data['content']['courses']\n",
        "    courses_df = pd.DataFrame(courses, columns= ['courses'])\n",
        "\n",
        "    locations = data['content']['locations']\n",
        "    locations_df = json_normalize(locations)\n",
        "\n",
        "    badges_df = pd.DataFrame(data['content']['meritBadges'])\n",
        "\n",
        "    website = data['content']['webaddr']\n",
        "    description = data['content']['description']\n",
        "    logoUrl = data['content']['logoUrl']\n",
        "    school_df = pd.DataFrame([website,description,logoUrl]).T\n",
        "    school_df.columns =  ['website','description','LogoUrl']\n",
        "\n",
        "    locations_df['school'] = school\n",
        "    courses_df['school'] = school\n",
        "    badges_df['school'] = school\n",
        "    school_df['school'] = school\n",
        "\n",
        "\n",
        "    locations_df['school_id'] = school_id\n",
        "    courses_df['school_id'] = school_id\n",
        "    badges_df['school_id'] = school_id\n",
        "    school_df['school_id'] = school_id\n",
        "\n",
        "    return locations_df, courses_df, badges_df, school_df\n",
        "\n",
        "locations_list = []\n",
        "courses_list = []\n",
        "badges_list = []\n",
        "schools_list = []\n",
        "\n",
        "for school, id in school_id_dict.items():\n",
        "    print(school)\n",
        "    a,b,c,d = get_school_info(school,id)\n",
        "\n",
        "    locations_list.append(a)\n",
        "    courses_list.append(b)\n",
        "    badges_list.append(c)\n",
        "    schools_list.append(d)"
      ]
    },
    {
      "cell_type": "code",
      "execution_count": 33,
      "metadata": {
        "colab": {
          "base_uri": "https://localhost:8080/"
        },
        "id": "xECbCqEeoT94",
        "outputId": "b527f94f-d2cc-4091-b664-adcbd11eaa8c"
      },
      "outputs": [
        {
          "data": {
            "text/plain": [
              "[      id description  state.id state.name state.abbrev state.keyword  \\\n",
              " 0  16013      Online         1     Online       Online        online   \n",
              " \n",
              "         school  school_id  \n",
              " 0  springboard      11035  ,\n",
              "       id description  state.id state.name state.abbrev state.keyword  \\\n",
              " 0  16378      Online         1     Online       Online        online   \n",
              " \n",
              "       school  school_id  \n",
              " 0  dataquest      10683  ,\n",
              "       id description  state.id state.name state.abbrev state.keyword  \\\n",
              " 0  18261      Online         1     Online       Online        online   \n",
              " \n",
              "                 school  school_id  \n",
              " 0  syntax-technologies      11797  ,\n",
              "       id               description  country.id   country.name country.abbrev  \\\n",
              " 0  15901           Berlin, Germany        57.0        Germany             DE   \n",
              " 1  16022       Mexico City, Mexico        29.0         Mexico             MX   \n",
              " 2  16086    Amsterdam, Netherlands        59.0    Netherlands             NL   \n",
              " 3  16088         Sao Paulo, Brazil        42.0         Brazil             BR   \n",
              " 4  16109             Paris, France        38.0         France             FR   \n",
              " 5  16375  Miami, FL, United States         1.0  United States             US   \n",
              " 6  16376             Madrid, Spain        12.0          Spain             ES   \n",
              " 7  16377          Barcelona, Spain        12.0          Spain             ES   \n",
              " 8  16709          Lisbon, Portugal        28.0       Portugal             PT   \n",
              " 9  17233                    Online         NaN            NaN            NaN   \n",
              " \n",
              "    city.id    city.name city.keyword  state.id state.name state.abbrev  \\\n",
              " 0  31156.0       Berlin       berlin       NaN        NaN          NaN   \n",
              " 1  31175.0  Mexico City  mexico-city       NaN        NaN          NaN   \n",
              " 2  31168.0    Amsterdam    amsterdam       NaN        NaN          NaN   \n",
              " 3  31121.0    Sao Paulo    sao-paulo       NaN        NaN          NaN   \n",
              " 4  31136.0        Paris        paris       NaN        NaN          NaN   \n",
              " 5     31.0        Miami        miami      11.0    Florida           FL   \n",
              " 6  31052.0       Madrid       madrid       NaN        NaN          NaN   \n",
              " 7  31170.0    Barcelona    barcelona       NaN        NaN          NaN   \n",
              " 8  31075.0       Lisbon       lisbon       NaN        NaN          NaN   \n",
              " 9      NaN          NaN          NaN       1.0     Online       Online   \n",
              " \n",
              "   state.keyword    school  school_id  \n",
              " 0           NaN  ironhack      10828  \n",
              " 1           NaN  ironhack      10828  \n",
              " 2           NaN  ironhack      10828  \n",
              " 3           NaN  ironhack      10828  \n",
              " 4           NaN  ironhack      10828  \n",
              " 5       florida  ironhack      10828  \n",
              " 6           NaN  ironhack      10828  \n",
              " 7           NaN  ironhack      10828  \n",
              " 8           NaN  ironhack      10828  \n",
              " 9        online  ironhack      10828  ,\n",
              "       id description  state.id state.name state.abbrev state.keyword  \\\n",
              " 0  17154      Online         1     Online       Online        online   \n",
              " \n",
              "       school  school_id  \n",
              " 0  tripleten      11225  ,\n",
              "       id description  state.id state.name state.abbrev state.keyword  \\\n",
              " 0  18073      Online         1     Online       Online        online   \n",
              " \n",
              "       school  school_id  \n",
              " 0  colaberry      11718  ,\n",
              "       id description  state.id state.name state.abbrev state.keyword  \\\n",
              " 0  18116      Online         1     Online       Online        online   \n",
              " \n",
              "             school  school_id  \n",
              " 0  maven-analytics      11740  ,\n",
              "       id description  state.id state.name state.abbrev state.keyword   school  \\\n",
              " 0  15807      Online         1     Online       Online        online  udacity   \n",
              " \n",
              "    school_id  \n",
              " 0      11118  ,\n",
              "       id        description  country.id    country.name country.abbrev  \\\n",
              " 0  15935  New York City, NY         1.0   United States             US   \n",
              " 1  15985    Toronto, Canada         2.0          Canada             CA   \n",
              " 2  16010  Vancouver, Canada         2.0          Canada             CA   \n",
              " 3  16909         Boston, MA         1.0   United States             US   \n",
              " 4  16910        Chicago, IL         1.0   United States             US   \n",
              " 5  16940             Online         NaN             NaN            NaN   \n",
              " 6  17706          Miami, FL         1.0   United States             US   \n",
              " 7  17731         London, UK        11.0  United Kingdom             GB   \n",
              " \n",
              "    state.id        state.name state.abbrev  state.keyword  city.id  city.name  \\\n",
              " 0      34.0          New York           NY       new-york   1507.0        NYC   \n",
              " 1      66.0           Ontario           ON                 31152.0    Toronto   \n",
              " 2      71.0  British Columbia           BC                 31138.0  Vancouver   \n",
              " 3      23.0     Massachusetts           MA  massachusetts     47.0     Boston   \n",
              " 4      15.0          Illinois           IL       illinois     39.0    Chicago   \n",
              " 5       1.0            Online       Online         online      NaN        NaN   \n",
              " 6      11.0           Florida           FL        florida     31.0      Miami   \n",
              " 7       NaN               NaN          NaN            NaN  31176.0     London   \n",
              " \n",
              "     city.keyword        school  school_id  \n",
              " 0  new-york-city  brainstation      10571  \n",
              " 1        toronto  brainstation      10571  \n",
              " 2      vancouver  brainstation      10571  \n",
              " 3         boston  brainstation      10571  \n",
              " 4        chicago  brainstation      10571  \n",
              " 5            NaN  brainstation      10571  \n",
              " 6          miami  brainstation      10571  \n",
              " 7         london  brainstation      10571  ,\n",
              "       id description  state.id state.name state.abbrev state.keyword  \\\n",
              " 0  18109      Online         1     Online       Online        online   \n",
              " \n",
              "                  school  school_id  \n",
              " 0  ccs-learning-academy      11736  ,\n",
              "       id description  state.id state.name state.abbrev state.keyword  \\\n",
              " 0  16383      Online         1     Online       Online        online   \n",
              " \n",
              "      school  school_id  \n",
              " 0  thinkful      11098  ,\n",
              "       id        description  country.id    country.name country.abbrev  \\\n",
              " 0  16360  New York City, NY         1.0   United States             US   \n",
              " 1  16372             Online         NaN             NaN            NaN   \n",
              " 2  16961         London, UK        11.0  United Kingdom             GB   \n",
              " 3  17033    Toronto, Canada         2.0          Canada             CA   \n",
              " \n",
              "    state.id state.name state.abbrev state.keyword  city.id city.name  \\\n",
              " 0      34.0   New York           NY      new-york   1507.0       NYC   \n",
              " 1       1.0     Online       Online        online      NaN       NaN   \n",
              " 2       NaN        NaN          NaN           NaN  31176.0    London   \n",
              " 3      66.0    Ontario           ON                31152.0   Toronto   \n",
              " \n",
              "     city.keyword            school  school_id  \n",
              " 0  new-york-city  general-assembly      10761  \n",
              " 1            NaN  general-assembly      10761  \n",
              " 2         london  general-assembly      10761  \n",
              " 3        toronto  general-assembly      10761  ]"
            ]
          },
          "execution_count": 33,
          "metadata": {},
          "output_type": "execute_result"
        }
      ],
      "source": [
        "locations_list"
      ]
    },
    {
      "cell_type": "code",
      "execution_count": 34,
      "metadata": {
        "colab": {
          "base_uri": "https://localhost:8080/"
        },
        "id": "VQTZIiyjoT94",
        "outputId": "8776189a-804a-4ae4-e757-e0e97e04ad21"
      },
      "outputs": [
        {
          "data": {
            "text/plain": [
              "id                 0\n",
              "description        0\n",
              "state.id          10\n",
              "state.name        10\n",
              "state.abbrev      10\n",
              "state.keyword     10\n",
              "school             0\n",
              "school_id          0\n",
              "country.id        12\n",
              "country.name      12\n",
              "country.abbrev    12\n",
              "city.id           12\n",
              "city.name         12\n",
              "city.keyword      12\n",
              "dtype: int64"
            ]
          },
          "execution_count": 34,
          "metadata": {},
          "output_type": "execute_result"
        }
      ],
      "source": [
        "locations = pd.concat(locations_list)\n",
        "locations.isna().sum()"
      ]
    },
    {
      "cell_type": "code",
      "execution_count": 35,
      "metadata": {
        "id": "ipo18vT0oT94"
      },
      "outputs": [],
      "source": [
        "# eliminate redundant data\n",
        "locations.drop(columns={\n",
        "    'state.abbrev',\n",
        "    'state.keyword',\n",
        "    'country.abbrev',\n",
        "    'city.keyword',\n",
        "    'state.id',\n",
        "    'city.id',\n",
        "    'country.id'\n",
        "}, inplace=True)"
      ]
    },
    {
      "cell_type": "code",
      "execution_count": 36,
      "metadata": {
        "id": "YBeL52tcoT94"
      },
      "outputs": [],
      "source": [
        "locations['country.name'] = locations['country.name'].apply(lambda value: 'Online' if pd.isna(value) else value)"
      ]
    },
    {
      "cell_type": "code",
      "execution_count": 37,
      "metadata": {
        "id": "P2l1GLN_oT94"
      },
      "outputs": [],
      "source": [
        "locations['city.name'] = locations['city.name'].apply(lambda value: 'Online' if pd.isna(value) else value)"
      ]
    },
    {
      "cell_type": "code",
      "execution_count": 38,
      "metadata": {
        "id": "xZe1rR80oT94"
      },
      "outputs": [],
      "source": [
        "locations['state.name'].fillna(locations['country.name'], inplace=True)"
      ]
    },
    {
      "cell_type": "code",
      "execution_count": 39,
      "metadata": {
        "colab": {
          "base_uri": "https://localhost:8080/"
        },
        "id": "ELMRO50EoT95",
        "outputId": "32640141-daf5-4b17-b39f-609c89d9ce2a"
      },
      "outputs": [
        {
          "data": {
            "text/plain": [
              "id              0\n",
              "description     0\n",
              "state.name      0\n",
              "school          0\n",
              "school_id       0\n",
              "country.name    0\n",
              "city.name       0\n",
              "dtype: int64"
            ]
          },
          "execution_count": 39,
          "metadata": {},
          "output_type": "execute_result"
        }
      ],
      "source": [
        "locations.isna().sum()"
      ]
    },
    {
      "cell_type": "code",
      "execution_count": 40,
      "metadata": {
        "colab": {
          "base_uri": "https://localhost:8080/"
        },
        "id": "-Co6Rt64oT95",
        "outputId": "3301c380-ce54-4ba1-d709-5c34556de6a1"
      },
      "outputs": [
        {
          "data": {
            "text/plain": [
              "Index(['id', 'description', 'state.name', 'school', 'school_id',\n",
              "       'country.name', 'city.name'],\n",
              "      dtype='object')"
            ]
          },
          "execution_count": 40,
          "metadata": {},
          "output_type": "execute_result"
        }
      ],
      "source": [
        "locations.columns"
      ]
    },
    {
      "cell_type": "code",
      "execution_count": 41,
      "metadata": {
        "id": "cUYpbJ40oT95"
      },
      "outputs": [],
      "source": [
        "courses = pd.concat(courses_list)"
      ]
    },
    {
      "cell_type": "code",
      "execution_count": 42,
      "metadata": {
        "colab": {
          "base_uri": "https://localhost:8080/",
          "height": 424
        },
        "id": "cOE6-1NMoT95",
        "outputId": "1b670283-6ff1-4cda-d1cf-ba8a758a1345"
      },
      "outputs": [
        {
          "data": {
            "text/html": [
              "<div>\n",
              "<style scoped>\n",
              "    .dataframe tbody tr th:only-of-type {\n",
              "        vertical-align: middle;\n",
              "    }\n",
              "\n",
              "    .dataframe tbody tr th {\n",
              "        vertical-align: top;\n",
              "    }\n",
              "\n",
              "    .dataframe thead th {\n",
              "        text-align: right;\n",
              "    }\n",
              "</style>\n",
              "<table border=\"1\" class=\"dataframe\">\n",
              "  <thead>\n",
              "    <tr style=\"text-align: right;\">\n",
              "      <th></th>\n",
              "      <th>courses</th>\n",
              "      <th>school</th>\n",
              "      <th>school_id</th>\n",
              "    </tr>\n",
              "  </thead>\n",
              "  <tbody>\n",
              "    <tr>\n",
              "      <th>0</th>\n",
              "      <td>Cyber Security Career Track</td>\n",
              "      <td>springboard</td>\n",
              "      <td>11035</td>\n",
              "    </tr>\n",
              "    <tr>\n",
              "      <th>1</th>\n",
              "      <td>Data Analytics Career Track</td>\n",
              "      <td>springboard</td>\n",
              "      <td>11035</td>\n",
              "    </tr>\n",
              "    <tr>\n",
              "      <th>2</th>\n",
              "      <td>Data Science Career Track</td>\n",
              "      <td>springboard</td>\n",
              "      <td>11035</td>\n",
              "    </tr>\n",
              "    <tr>\n",
              "      <th>3</th>\n",
              "      <td>Data Science Career Track Prep</td>\n",
              "      <td>springboard</td>\n",
              "      <td>11035</td>\n",
              "    </tr>\n",
              "    <tr>\n",
              "      <th>4</th>\n",
              "      <td>Front-End Web Development</td>\n",
              "      <td>springboard</td>\n",
              "      <td>11035</td>\n",
              "    </tr>\n",
              "    <tr>\n",
              "      <th>...</th>\n",
              "      <td>...</td>\n",
              "      <td>...</td>\n",
              "      <td>...</td>\n",
              "    </tr>\n",
              "    <tr>\n",
              "      <th>9</th>\n",
              "      <td>React Development (Short Course)</td>\n",
              "      <td>general-assembly</td>\n",
              "      <td>10761</td>\n",
              "    </tr>\n",
              "    <tr>\n",
              "      <th>10</th>\n",
              "      <td>Software Engineering Bootcamp (Full-Time)</td>\n",
              "      <td>general-assembly</td>\n",
              "      <td>10761</td>\n",
              "    </tr>\n",
              "    <tr>\n",
              "      <th>11</th>\n",
              "      <td>User Experience Design (Short Course)</td>\n",
              "      <td>general-assembly</td>\n",
              "      <td>10761</td>\n",
              "    </tr>\n",
              "    <tr>\n",
              "      <th>12</th>\n",
              "      <td>User Experience Design Bootcamp (Full-Time)</td>\n",
              "      <td>general-assembly</td>\n",
              "      <td>10761</td>\n",
              "    </tr>\n",
              "    <tr>\n",
              "      <th>13</th>\n",
              "      <td>Visual Design (Short Course)</td>\n",
              "      <td>general-assembly</td>\n",
              "      <td>10761</td>\n",
              "    </tr>\n",
              "  </tbody>\n",
              "</table>\n",
              "<p>114 rows × 3 columns</p>\n",
              "</div>"
            ],
            "text/plain": [
              "                                        courses            school  school_id\n",
              "0                   Cyber Security Career Track       springboard      11035\n",
              "1                   Data Analytics Career Track       springboard      11035\n",
              "2                     Data Science Career Track       springboard      11035\n",
              "3                Data Science Career Track Prep       springboard      11035\n",
              "4                     Front-End Web Development       springboard      11035\n",
              "..                                          ...               ...        ...\n",
              "9              React Development (Short Course)  general-assembly      10761\n",
              "10    Software Engineering Bootcamp (Full-Time)  general-assembly      10761\n",
              "11        User Experience Design (Short Course)  general-assembly      10761\n",
              "12  User Experience Design Bootcamp (Full-Time)  general-assembly      10761\n",
              "13                 Visual Design (Short Course)  general-assembly      10761\n",
              "\n",
              "[114 rows x 3 columns]"
            ]
          },
          "execution_count": 42,
          "metadata": {},
          "output_type": "execute_result"
        }
      ],
      "source": [
        "courses"
      ]
    },
    {
      "cell_type": "code",
      "execution_count": 43,
      "metadata": {
        "colab": {
          "base_uri": "https://localhost:8080/",
          "height": 1000
        },
        "id": "FuMg2y8VoT95",
        "outputId": "1ceac517-e792-4aff-f68c-e40dcd4a27d1"
      },
      "outputs": [
        {
          "data": {
            "text/html": [
              "<div>\n",
              "<style scoped>\n",
              "    .dataframe tbody tr th:only-of-type {\n",
              "        vertical-align: middle;\n",
              "    }\n",
              "\n",
              "    .dataframe tbody tr th {\n",
              "        vertical-align: top;\n",
              "    }\n",
              "\n",
              "    .dataframe thead th {\n",
              "        text-align: right;\n",
              "    }\n",
              "</style>\n",
              "<table border=\"1\" class=\"dataframe\">\n",
              "  <thead>\n",
              "    <tr style=\"text-align: right;\">\n",
              "      <th></th>\n",
              "      <th>name</th>\n",
              "      <th>keyword</th>\n",
              "      <th>description</th>\n",
              "      <th>school</th>\n",
              "      <th>school_id</th>\n",
              "    </tr>\n",
              "  </thead>\n",
              "  <tbody>\n",
              "    <tr>\n",
              "      <th>0</th>\n",
              "      <td>Available Online</td>\n",
              "      <td>available_online</td>\n",
              "      <td>&lt;p&gt;School offers fully online courses&lt;/p&gt;</td>\n",
              "      <td>springboard</td>\n",
              "      <td>11035</td>\n",
              "    </tr>\n",
              "    <tr>\n",
              "      <th>1</th>\n",
              "      <td>Flexible Classes</td>\n",
              "      <td>flexible_classes</td>\n",
              "      <td>&lt;p&gt;School offers part-time and evening classes...</td>\n",
              "      <td>springboard</td>\n",
              "      <td>11035</td>\n",
              "    </tr>\n",
              "    <tr>\n",
              "      <th>2</th>\n",
              "      <td>Job Guarantee</td>\n",
              "      <td>job_guarantee</td>\n",
              "      <td>&lt;p&gt;School guarantees job placement&lt;/p&gt;</td>\n",
              "      <td>springboard</td>\n",
              "      <td>11035</td>\n",
              "    </tr>\n",
              "    <tr>\n",
              "      <th>0</th>\n",
              "      <td>Available Online</td>\n",
              "      <td>available_online</td>\n",
              "      <td>&lt;p&gt;School offers fully online courses&lt;/p&gt;</td>\n",
              "      <td>dataquest</td>\n",
              "      <td>10683</td>\n",
              "    </tr>\n",
              "    <tr>\n",
              "      <th>1</th>\n",
              "      <td>Flexible Classes</td>\n",
              "      <td>flexible_classes</td>\n",
              "      <td>&lt;p&gt;School offers part-time and evening classes...</td>\n",
              "      <td>dataquest</td>\n",
              "      <td>10683</td>\n",
              "    </tr>\n",
              "    <tr>\n",
              "      <th>0</th>\n",
              "      <td>Available Online</td>\n",
              "      <td>available_online</td>\n",
              "      <td>&lt;p&gt;School offers fully online courses&lt;/p&gt;</td>\n",
              "      <td>syntax-technologies</td>\n",
              "      <td>11797</td>\n",
              "    </tr>\n",
              "    <tr>\n",
              "      <th>1</th>\n",
              "      <td>Flexible Classes</td>\n",
              "      <td>flexible_classes</td>\n",
              "      <td>&lt;p&gt;School offers part-time and evening classes...</td>\n",
              "      <td>syntax-technologies</td>\n",
              "      <td>11797</td>\n",
              "    </tr>\n",
              "    <tr>\n",
              "      <th>0</th>\n",
              "      <td>Available Online</td>\n",
              "      <td>available_online</td>\n",
              "      <td>&lt;p&gt;School offers fully online courses&lt;/p&gt;</td>\n",
              "      <td>ironhack</td>\n",
              "      <td>10828</td>\n",
              "    </tr>\n",
              "    <tr>\n",
              "      <th>1</th>\n",
              "      <td>Verified Outcomes</td>\n",
              "      <td>verified_outcomes</td>\n",
              "      <td>&lt;p&gt;School publishes a third-party verified out...</td>\n",
              "      <td>ironhack</td>\n",
              "      <td>10828</td>\n",
              "    </tr>\n",
              "    <tr>\n",
              "      <th>2</th>\n",
              "      <td>Flexible Classes</td>\n",
              "      <td>flexible_classes</td>\n",
              "      <td>&lt;p&gt;School offers part-time and evening classes...</td>\n",
              "      <td>ironhack</td>\n",
              "      <td>10828</td>\n",
              "    </tr>\n",
              "    <tr>\n",
              "      <th>0</th>\n",
              "      <td>Available Online</td>\n",
              "      <td>available_online</td>\n",
              "      <td>&lt;p&gt;School offers fully online courses&lt;/p&gt;</td>\n",
              "      <td>tripleten</td>\n",
              "      <td>11225</td>\n",
              "    </tr>\n",
              "    <tr>\n",
              "      <th>1</th>\n",
              "      <td>Flexible Classes</td>\n",
              "      <td>flexible_classes</td>\n",
              "      <td>&lt;p&gt;School offers part-time and evening classes...</td>\n",
              "      <td>tripleten</td>\n",
              "      <td>11225</td>\n",
              "    </tr>\n",
              "    <tr>\n",
              "      <th>2</th>\n",
              "      <td>Job Guarantee</td>\n",
              "      <td>job_guarantee</td>\n",
              "      <td>&lt;p&gt;School guarantees job placement&lt;/p&gt;</td>\n",
              "      <td>tripleten</td>\n",
              "      <td>11225</td>\n",
              "    </tr>\n",
              "    <tr>\n",
              "      <th>0</th>\n",
              "      <td>Available Online</td>\n",
              "      <td>available_online</td>\n",
              "      <td>&lt;p&gt;School offers fully online courses&lt;/p&gt;</td>\n",
              "      <td>colaberry</td>\n",
              "      <td>11718</td>\n",
              "    </tr>\n",
              "    <tr>\n",
              "      <th>1</th>\n",
              "      <td>Flexible Classes</td>\n",
              "      <td>flexible_classes</td>\n",
              "      <td>&lt;p&gt;School offers part-time and evening classes...</td>\n",
              "      <td>colaberry</td>\n",
              "      <td>11718</td>\n",
              "    </tr>\n",
              "    <tr>\n",
              "      <th>0</th>\n",
              "      <td>Available Online</td>\n",
              "      <td>available_online</td>\n",
              "      <td>&lt;p&gt;School offers fully online courses&lt;/p&gt;</td>\n",
              "      <td>maven-analytics</td>\n",
              "      <td>11740</td>\n",
              "    </tr>\n",
              "    <tr>\n",
              "      <th>1</th>\n",
              "      <td>Flexible Classes</td>\n",
              "      <td>flexible_classes</td>\n",
              "      <td>&lt;p&gt;School offers part-time and evening classes...</td>\n",
              "      <td>maven-analytics</td>\n",
              "      <td>11740</td>\n",
              "    </tr>\n",
              "    <tr>\n",
              "      <th>0</th>\n",
              "      <td>Available Online</td>\n",
              "      <td>available_online</td>\n",
              "      <td>&lt;p&gt;School offers fully online courses&lt;/p&gt;</td>\n",
              "      <td>udacity</td>\n",
              "      <td>11118</td>\n",
              "    </tr>\n",
              "    <tr>\n",
              "      <th>1</th>\n",
              "      <td>Flexible Classes</td>\n",
              "      <td>flexible_classes</td>\n",
              "      <td>&lt;p&gt;School offers part-time and evening classes...</td>\n",
              "      <td>udacity</td>\n",
              "      <td>11118</td>\n",
              "    </tr>\n",
              "    <tr>\n",
              "      <th>0</th>\n",
              "      <td>Available Online</td>\n",
              "      <td>available_online</td>\n",
              "      <td>&lt;p&gt;School offers fully online courses&lt;/p&gt;</td>\n",
              "      <td>brainstation</td>\n",
              "      <td>10571</td>\n",
              "    </tr>\n",
              "    <tr>\n",
              "      <th>1</th>\n",
              "      <td>Flexible Classes</td>\n",
              "      <td>flexible_classes</td>\n",
              "      <td>&lt;p&gt;School offers part-time and evening classes...</td>\n",
              "      <td>brainstation</td>\n",
              "      <td>10571</td>\n",
              "    </tr>\n",
              "    <tr>\n",
              "      <th>2</th>\n",
              "      <td>Accepts GI Bill</td>\n",
              "      <td>accepts_gi_bill</td>\n",
              "      <td>&lt;p&gt;School accepts the GI Bill&lt;/p&gt;</td>\n",
              "      <td>brainstation</td>\n",
              "      <td>10571</td>\n",
              "    </tr>\n",
              "    <tr>\n",
              "      <th>0</th>\n",
              "      <td>Available Online</td>\n",
              "      <td>available_online</td>\n",
              "      <td>&lt;p&gt;School offers fully online courses&lt;/p&gt;</td>\n",
              "      <td>ccs-learning-academy</td>\n",
              "      <td>11736</td>\n",
              "    </tr>\n",
              "    <tr>\n",
              "      <th>1</th>\n",
              "      <td>Flexible Classes</td>\n",
              "      <td>flexible_classes</td>\n",
              "      <td>&lt;p&gt;School offers part-time and evening classes...</td>\n",
              "      <td>ccs-learning-academy</td>\n",
              "      <td>11736</td>\n",
              "    </tr>\n",
              "    <tr>\n",
              "      <th>2</th>\n",
              "      <td>Job Guarantee</td>\n",
              "      <td>job_guarantee</td>\n",
              "      <td>&lt;p&gt;School guarantees job placement&lt;/p&gt;</td>\n",
              "      <td>ccs-learning-academy</td>\n",
              "      <td>11736</td>\n",
              "    </tr>\n",
              "    <tr>\n",
              "      <th>0</th>\n",
              "      <td>Available Online</td>\n",
              "      <td>available_online</td>\n",
              "      <td>&lt;p&gt;School offers fully online courses&lt;/p&gt;</td>\n",
              "      <td>thinkful</td>\n",
              "      <td>11098</td>\n",
              "    </tr>\n",
              "    <tr>\n",
              "      <th>1</th>\n",
              "      <td>Verified Outcomes</td>\n",
              "      <td>verified_outcomes</td>\n",
              "      <td>&lt;p&gt;School publishes a third-party verified out...</td>\n",
              "      <td>thinkful</td>\n",
              "      <td>11098</td>\n",
              "    </tr>\n",
              "    <tr>\n",
              "      <th>2</th>\n",
              "      <td>Flexible Classes</td>\n",
              "      <td>flexible_classes</td>\n",
              "      <td>&lt;p&gt;School offers part-time and evening classes...</td>\n",
              "      <td>thinkful</td>\n",
              "      <td>11098</td>\n",
              "    </tr>\n",
              "    <tr>\n",
              "      <th>3</th>\n",
              "      <td>Job Guarantee</td>\n",
              "      <td>job_guarantee</td>\n",
              "      <td>&lt;p&gt;School guarantees job placement&lt;/p&gt;</td>\n",
              "      <td>thinkful</td>\n",
              "      <td>11098</td>\n",
              "    </tr>\n",
              "    <tr>\n",
              "      <th>0</th>\n",
              "      <td>Available Online</td>\n",
              "      <td>available_online</td>\n",
              "      <td>&lt;p&gt;School offers fully online courses&lt;/p&gt;</td>\n",
              "      <td>general-assembly</td>\n",
              "      <td>10761</td>\n",
              "    </tr>\n",
              "    <tr>\n",
              "      <th>1</th>\n",
              "      <td>Verified Outcomes</td>\n",
              "      <td>verified_outcomes</td>\n",
              "      <td>&lt;p&gt;School publishes a third-party verified out...</td>\n",
              "      <td>general-assembly</td>\n",
              "      <td>10761</td>\n",
              "    </tr>\n",
              "    <tr>\n",
              "      <th>2</th>\n",
              "      <td>Flexible Classes</td>\n",
              "      <td>flexible_classes</td>\n",
              "      <td>&lt;p&gt;School offers part-time and evening classes...</td>\n",
              "      <td>general-assembly</td>\n",
              "      <td>10761</td>\n",
              "    </tr>\n",
              "    <tr>\n",
              "      <th>3</th>\n",
              "      <td>Accepts GI Bill</td>\n",
              "      <td>accepts_gi_bill</td>\n",
              "      <td>&lt;p&gt;School accepts the GI Bill&lt;/p&gt;</td>\n",
              "      <td>general-assembly</td>\n",
              "      <td>10761</td>\n",
              "    </tr>\n",
              "  </tbody>\n",
              "</table>\n",
              "</div>"
            ],
            "text/plain": [
              "                name            keyword  \\\n",
              "0   Available Online   available_online   \n",
              "1   Flexible Classes   flexible_classes   \n",
              "2      Job Guarantee      job_guarantee   \n",
              "0   Available Online   available_online   \n",
              "1   Flexible Classes   flexible_classes   \n",
              "0   Available Online   available_online   \n",
              "1   Flexible Classes   flexible_classes   \n",
              "0   Available Online   available_online   \n",
              "1  Verified Outcomes  verified_outcomes   \n",
              "2   Flexible Classes   flexible_classes   \n",
              "0   Available Online   available_online   \n",
              "1   Flexible Classes   flexible_classes   \n",
              "2      Job Guarantee      job_guarantee   \n",
              "0   Available Online   available_online   \n",
              "1   Flexible Classes   flexible_classes   \n",
              "0   Available Online   available_online   \n",
              "1   Flexible Classes   flexible_classes   \n",
              "0   Available Online   available_online   \n",
              "1   Flexible Classes   flexible_classes   \n",
              "0   Available Online   available_online   \n",
              "1   Flexible Classes   flexible_classes   \n",
              "2    Accepts GI Bill    accepts_gi_bill   \n",
              "0   Available Online   available_online   \n",
              "1   Flexible Classes   flexible_classes   \n",
              "2      Job Guarantee      job_guarantee   \n",
              "0   Available Online   available_online   \n",
              "1  Verified Outcomes  verified_outcomes   \n",
              "2   Flexible Classes   flexible_classes   \n",
              "3      Job Guarantee      job_guarantee   \n",
              "0   Available Online   available_online   \n",
              "1  Verified Outcomes  verified_outcomes   \n",
              "2   Flexible Classes   flexible_classes   \n",
              "3    Accepts GI Bill    accepts_gi_bill   \n",
              "\n",
              "                                         description                school  \\\n",
              "0          <p>School offers fully online courses</p>           springboard   \n",
              "1  <p>School offers part-time and evening classes...           springboard   \n",
              "2             <p>School guarantees job placement</p>           springboard   \n",
              "0          <p>School offers fully online courses</p>             dataquest   \n",
              "1  <p>School offers part-time and evening classes...             dataquest   \n",
              "0          <p>School offers fully online courses</p>   syntax-technologies   \n",
              "1  <p>School offers part-time and evening classes...   syntax-technologies   \n",
              "0          <p>School offers fully online courses</p>              ironhack   \n",
              "1  <p>School publishes a third-party verified out...              ironhack   \n",
              "2  <p>School offers part-time and evening classes...              ironhack   \n",
              "0          <p>School offers fully online courses</p>             tripleten   \n",
              "1  <p>School offers part-time and evening classes...             tripleten   \n",
              "2             <p>School guarantees job placement</p>             tripleten   \n",
              "0          <p>School offers fully online courses</p>             colaberry   \n",
              "1  <p>School offers part-time and evening classes...             colaberry   \n",
              "0          <p>School offers fully online courses</p>       maven-analytics   \n",
              "1  <p>School offers part-time and evening classes...       maven-analytics   \n",
              "0          <p>School offers fully online courses</p>               udacity   \n",
              "1  <p>School offers part-time and evening classes...               udacity   \n",
              "0          <p>School offers fully online courses</p>          brainstation   \n",
              "1  <p>School offers part-time and evening classes...          brainstation   \n",
              "2                  <p>School accepts the GI Bill</p>          brainstation   \n",
              "0          <p>School offers fully online courses</p>  ccs-learning-academy   \n",
              "1  <p>School offers part-time and evening classes...  ccs-learning-academy   \n",
              "2             <p>School guarantees job placement</p>  ccs-learning-academy   \n",
              "0          <p>School offers fully online courses</p>              thinkful   \n",
              "1  <p>School publishes a third-party verified out...              thinkful   \n",
              "2  <p>School offers part-time and evening classes...              thinkful   \n",
              "3             <p>School guarantees job placement</p>              thinkful   \n",
              "0          <p>School offers fully online courses</p>      general-assembly   \n",
              "1  <p>School publishes a third-party verified out...      general-assembly   \n",
              "2  <p>School offers part-time and evening classes...      general-assembly   \n",
              "3                  <p>School accepts the GI Bill</p>      general-assembly   \n",
              "\n",
              "   school_id  \n",
              "0      11035  \n",
              "1      11035  \n",
              "2      11035  \n",
              "0      10683  \n",
              "1      10683  \n",
              "0      11797  \n",
              "1      11797  \n",
              "0      10828  \n",
              "1      10828  \n",
              "2      10828  \n",
              "0      11225  \n",
              "1      11225  \n",
              "2      11225  \n",
              "0      11718  \n",
              "1      11718  \n",
              "0      11740  \n",
              "1      11740  \n",
              "0      11118  \n",
              "1      11118  \n",
              "0      10571  \n",
              "1      10571  \n",
              "2      10571  \n",
              "0      11736  \n",
              "1      11736  \n",
              "2      11736  \n",
              "0      11098  \n",
              "1      11098  \n",
              "2      11098  \n",
              "3      11098  \n",
              "0      10761  \n",
              "1      10761  \n",
              "2      10761  \n",
              "3      10761  "
            ]
          },
          "execution_count": 43,
          "metadata": {},
          "output_type": "execute_result"
        }
      ],
      "source": [
        "badges = pd.concat(badges_list)\n",
        "badges"
      ]
    },
    {
      "cell_type": "code",
      "execution_count": 44,
      "metadata": {
        "id": "6aVNVQ27oT95"
      },
      "outputs": [],
      "source": [
        "badges.drop(columns={'keyword'}, inplace=True)"
      ]
    },
    {
      "cell_type": "code",
      "execution_count": 45,
      "metadata": {
        "colab": {
          "base_uri": "https://localhost:8080/"
        },
        "id": "jLLk6HSKoT95",
        "outputId": "769debc5-243a-4a6d-ae79-c4ca8505242a"
      },
      "outputs": [
        {
          "data": {
            "text/plain": [
              "Index(['name', 'description', 'school', 'school_id'], dtype='object')"
            ]
          },
          "execution_count": 45,
          "metadata": {},
          "output_type": "execute_result"
        }
      ],
      "source": [
        "badges.columns"
      ]
    },
    {
      "cell_type": "code",
      "execution_count": 46,
      "metadata": {
        "colab": {
          "base_uri": "https://localhost:8080/",
          "height": 35
        },
        "id": "Hp9xlizIoT95",
        "outputId": "ee454062-ef41-4232-83af-8d4be3e474b6"
      },
      "outputs": [
        {
          "data": {
            "text/plain": [
              "'School offers fully online courses'"
            ]
          },
          "execution_count": 46,
          "metadata": {},
          "output_type": "execute_result"
        }
      ],
      "source": [
        "text = '<p>School offers fully online courses</p>'\n",
        "text.split('>')[1].split('<')[0]"
      ]
    },
    {
      "cell_type": "code",
      "execution_count": 47,
      "metadata": {
        "id": "SUIy0wlEoT95"
      },
      "outputs": [],
      "source": [
        "badges['description'] = badges['description'].apply(lambda text: text.split('>')[1].split('<')[0])"
      ]
    },
    {
      "cell_type": "code",
      "execution_count": 48,
      "metadata": {
        "colab": {
          "base_uri": "https://localhost:8080/",
          "height": 1000
        },
        "id": "DwLbU_nVoT96",
        "outputId": "78cdbadb-9cf8-4ce2-9ecb-6f386ae41c76"
      },
      "outputs": [
        {
          "data": {
            "text/html": [
              "<div>\n",
              "<style scoped>\n",
              "    .dataframe tbody tr th:only-of-type {\n",
              "        vertical-align: middle;\n",
              "    }\n",
              "\n",
              "    .dataframe tbody tr th {\n",
              "        vertical-align: top;\n",
              "    }\n",
              "\n",
              "    .dataframe thead th {\n",
              "        text-align: right;\n",
              "    }\n",
              "</style>\n",
              "<table border=\"1\" class=\"dataframe\">\n",
              "  <thead>\n",
              "    <tr style=\"text-align: right;\">\n",
              "      <th></th>\n",
              "      <th>name</th>\n",
              "      <th>description</th>\n",
              "      <th>school</th>\n",
              "      <th>school_id</th>\n",
              "    </tr>\n",
              "  </thead>\n",
              "  <tbody>\n",
              "    <tr>\n",
              "      <th>0</th>\n",
              "      <td>Available Online</td>\n",
              "      <td>School offers fully online courses</td>\n",
              "      <td>springboard</td>\n",
              "      <td>11035</td>\n",
              "    </tr>\n",
              "    <tr>\n",
              "      <th>1</th>\n",
              "      <td>Flexible Classes</td>\n",
              "      <td>School offers part-time and evening classes</td>\n",
              "      <td>springboard</td>\n",
              "      <td>11035</td>\n",
              "    </tr>\n",
              "    <tr>\n",
              "      <th>2</th>\n",
              "      <td>Job Guarantee</td>\n",
              "      <td>School guarantees job placement</td>\n",
              "      <td>springboard</td>\n",
              "      <td>11035</td>\n",
              "    </tr>\n",
              "  </tbody>\n",
              "</table>\n",
              "</div>"
            ],
            "text/plain": [
              "               name                                  description       school  \\\n",
              "0  Available Online           School offers fully online courses  springboard   \n",
              "1  Flexible Classes  School offers part-time and evening classes  springboard   \n",
              "2     Job Guarantee              School guarantees job placement  springboard   \n",
              "\n",
              "   school_id  \n",
              "0      11035  \n",
              "1      11035  \n",
              "2      11035  "
            ]
          },
          "execution_count": 48,
          "metadata": {},
          "output_type": "execute_result"
        }
      ],
      "source": [
        "badges[badges['school'] == 'springboard']"
      ]
    },
    {
      "cell_type": "code",
      "execution_count": 49,
      "metadata": {
        "colab": {
          "base_uri": "https://localhost:8080/",
          "height": 426
        },
        "id": "E_32rRUtoT96",
        "outputId": "e67e091e-ee20-490a-e6e8-1ff027be6ff8"
      },
      "outputs": [
        {
          "data": {
            "text/html": [
              "<div>\n",
              "<style scoped>\n",
              "    .dataframe tbody tr th:only-of-type {\n",
              "        vertical-align: middle;\n",
              "    }\n",
              "\n",
              "    .dataframe tbody tr th {\n",
              "        vertical-align: top;\n",
              "    }\n",
              "\n",
              "    .dataframe thead th {\n",
              "        text-align: right;\n",
              "    }\n",
              "</style>\n",
              "<table border=\"1\" class=\"dataframe\">\n",
              "  <thead>\n",
              "    <tr style=\"text-align: right;\">\n",
              "      <th></th>\n",
              "      <th>website</th>\n",
              "      <th>description</th>\n",
              "      <th>LogoUrl</th>\n",
              "      <th>school</th>\n",
              "      <th>school_id</th>\n",
              "    </tr>\n",
              "  </thead>\n",
              "  <tbody>\n",
              "    <tr>\n",
              "      <th>0</th>\n",
              "      <td>www.springboard.com/?utm_source=switchup&amp;utm_m...</td>\n",
              "      <td>&lt;span class=\"truncatable\"&gt;&lt;p&gt;Springboard is an...</td>\n",
              "      <td>https://d92mrp7hetgfk.cloudfront.net/images/si...</td>\n",
              "      <td>springboard</td>\n",
              "      <td>11035</td>\n",
              "    </tr>\n",
              "    <tr>\n",
              "      <th>0</th>\n",
              "      <td>www.dataquest.io</td>\n",
              "      <td>&lt;span class=\"truncatable\"&gt;&lt;p&gt;Master data skill...</td>\n",
              "      <td>https://d92mrp7hetgfk.cloudfront.net/images/si...</td>\n",
              "      <td>dataquest</td>\n",
              "      <td>10683</td>\n",
              "    </tr>\n",
              "    <tr>\n",
              "      <th>0</th>\n",
              "      <td>www.syntaxtechs.com/</td>\n",
              "      <td>&lt;span class=\"truncatable\"&gt;&lt;p&gt;Syntax Technologi...</td>\n",
              "      <td>https://d92mrp7hetgfk.cloudfront.net/images/si...</td>\n",
              "      <td>syntax-technologies</td>\n",
              "      <td>11797</td>\n",
              "    </tr>\n",
              "    <tr>\n",
              "      <th>0</th>\n",
              "      <td>www.ironhack.com/en</td>\n",
              "      <td>&lt;span class=\"truncatable\"&gt;&lt;p&gt;Ironhack is a glo...</td>\n",
              "      <td>https://d92mrp7hetgfk.cloudfront.net/images/si...</td>\n",
              "      <td>ironhack</td>\n",
              "      <td>10828</td>\n",
              "    </tr>\n",
              "    <tr>\n",
              "      <th>0</th>\n",
              "      <td>tripleten.com/?utm_source=referral&amp;utm_medium=...</td>\n",
              "      <td>&lt;span class=\"truncatable\"&gt;&lt;p&gt;Tripleten changed...</td>\n",
              "      <td>https://d92mrp7hetgfk.cloudfront.net/images/si...</td>\n",
              "      <td>tripleten</td>\n",
              "      <td>11225</td>\n",
              "    </tr>\n",
              "    <tr>\n",
              "      <th>0</th>\n",
              "      <td>www.colaberry.com/</td>\n",
              "      <td>&lt;span class=\"truncatable\"&gt;&lt;p&gt;Colaberry offers ...</td>\n",
              "      <td>https://d92mrp7hetgfk.cloudfront.net/images/si...</td>\n",
              "      <td>colaberry</td>\n",
              "      <td>11718</td>\n",
              "    </tr>\n",
              "    <tr>\n",
              "      <th>0</th>\n",
              "      <td>www.mavenanalytics.io/</td>\n",
              "      <td>&lt;span class=\"truncatable\"&gt;&lt;p&gt;Maven Analytics i...</td>\n",
              "      <td>https://d92mrp7hetgfk.cloudfront.net/images/si...</td>\n",
              "      <td>maven-analytics</td>\n",
              "      <td>11740</td>\n",
              "    </tr>\n",
              "    <tr>\n",
              "      <th>0</th>\n",
              "      <td>www.udacity.com/?utm_source=switchup&amp;utm_mediu...</td>\n",
              "      <td>&lt;span class=\"truncatable\"&gt;&lt;p&gt;Udacity is the tr...</td>\n",
              "      <td>https://d92mrp7hetgfk.cloudfront.net/images/si...</td>\n",
              "      <td>udacity</td>\n",
              "      <td>11118</td>\n",
              "    </tr>\n",
              "    <tr>\n",
              "      <th>0</th>\n",
              "      <td>brainstation.io</td>\n",
              "      <td>&lt;span class=\"truncatable\"&gt;&lt;p&gt;BrainStation is t...</td>\n",
              "      <td>https://d92mrp7hetgfk.cloudfront.net/images/si...</td>\n",
              "      <td>brainstation</td>\n",
              "      <td>10571</td>\n",
              "    </tr>\n",
              "    <tr>\n",
              "      <th>0</th>\n",
              "      <td>ccslearningacademy.com/</td>\n",
              "      <td>&lt;span class=\"truncatable\"&gt;&lt;p&gt;TECH TRAINING BY ...</td>\n",
              "      <td>https://d92mrp7hetgfk.cloudfront.net/images/si...</td>\n",
              "      <td>ccs-learning-academy</td>\n",
              "      <td>11736</td>\n",
              "    </tr>\n",
              "    <tr>\n",
              "      <th>0</th>\n",
              "      <td>thinkful.com/</td>\n",
              "      <td>&lt;span class=\"truncatable\"&gt;&lt;p&gt;Thinkful teaches ...</td>\n",
              "      <td>https://d92mrp7hetgfk.cloudfront.net/images/si...</td>\n",
              "      <td>thinkful</td>\n",
              "      <td>11098</td>\n",
              "    </tr>\n",
              "    <tr>\n",
              "      <th>0</th>\n",
              "      <td>generalassemb.ly?utm_source=switchup&amp;utm_mediu...</td>\n",
              "      <td>&lt;span class=\"truncatable\"&gt;&lt;p&gt;General Assembly ...</td>\n",
              "      <td>https://d92mrp7hetgfk.cloudfront.net/images/si...</td>\n",
              "      <td>general-assembly</td>\n",
              "      <td>10761</td>\n",
              "    </tr>\n",
              "  </tbody>\n",
              "</table>\n",
              "</div>"
            ],
            "text/plain": [
              "                                             website  \\\n",
              "0  www.springboard.com/?utm_source=switchup&utm_m...   \n",
              "0                                   www.dataquest.io   \n",
              "0                               www.syntaxtechs.com/   \n",
              "0                                www.ironhack.com/en   \n",
              "0  tripleten.com/?utm_source=referral&utm_medium=...   \n",
              "0                                 www.colaberry.com/   \n",
              "0                             www.mavenanalytics.io/   \n",
              "0  www.udacity.com/?utm_source=switchup&utm_mediu...   \n",
              "0                                    brainstation.io   \n",
              "0                            ccslearningacademy.com/   \n",
              "0                                      thinkful.com/   \n",
              "0  generalassemb.ly?utm_source=switchup&utm_mediu...   \n",
              "\n",
              "                                         description  \\\n",
              "0  <span class=\"truncatable\"><p>Springboard is an...   \n",
              "0  <span class=\"truncatable\"><p>Master data skill...   \n",
              "0  <span class=\"truncatable\"><p>Syntax Technologi...   \n",
              "0  <span class=\"truncatable\"><p>Ironhack is a glo...   \n",
              "0  <span class=\"truncatable\"><p>Tripleten changed...   \n",
              "0  <span class=\"truncatable\"><p>Colaberry offers ...   \n",
              "0  <span class=\"truncatable\"><p>Maven Analytics i...   \n",
              "0  <span class=\"truncatable\"><p>Udacity is the tr...   \n",
              "0  <span class=\"truncatable\"><p>BrainStation is t...   \n",
              "0  <span class=\"truncatable\"><p>TECH TRAINING BY ...   \n",
              "0  <span class=\"truncatable\"><p>Thinkful teaches ...   \n",
              "0  <span class=\"truncatable\"><p>General Assembly ...   \n",
              "\n",
              "                                             LogoUrl                school  \\\n",
              "0  https://d92mrp7hetgfk.cloudfront.net/images/si...           springboard   \n",
              "0  https://d92mrp7hetgfk.cloudfront.net/images/si...             dataquest   \n",
              "0  https://d92mrp7hetgfk.cloudfront.net/images/si...   syntax-technologies   \n",
              "0  https://d92mrp7hetgfk.cloudfront.net/images/si...              ironhack   \n",
              "0  https://d92mrp7hetgfk.cloudfront.net/images/si...             tripleten   \n",
              "0  https://d92mrp7hetgfk.cloudfront.net/images/si...             colaberry   \n",
              "0  https://d92mrp7hetgfk.cloudfront.net/images/si...       maven-analytics   \n",
              "0  https://d92mrp7hetgfk.cloudfront.net/images/si...               udacity   \n",
              "0  https://d92mrp7hetgfk.cloudfront.net/images/si...          brainstation   \n",
              "0  https://d92mrp7hetgfk.cloudfront.net/images/si...  ccs-learning-academy   \n",
              "0  https://d92mrp7hetgfk.cloudfront.net/images/si...              thinkful   \n",
              "0  https://d92mrp7hetgfk.cloudfront.net/images/si...      general-assembly   \n",
              "\n",
              "   school_id  \n",
              "0      11035  \n",
              "0      10683  \n",
              "0      11797  \n",
              "0      10828  \n",
              "0      11225  \n",
              "0      11718  \n",
              "0      11740  \n",
              "0      11118  \n",
              "0      10571  \n",
              "0      11736  \n",
              "0      11098  \n",
              "0      10761  "
            ]
          },
          "execution_count": 49,
          "metadata": {},
          "output_type": "execute_result"
        }
      ],
      "source": [
        "# any data cleaning still missing here? take a look at the description\n",
        "schools = pd.concat(schools_list)\n",
        "schools"
      ]
    },
    {
      "cell_type": "code",
      "execution_count": 50,
      "metadata": {
        "id": "CMRA3fZroT-B"
      },
      "outputs": [],
      "source": [
        "TAG_RE = re.compile(r'<[^>]+>')\n",
        "def remove_tags(x):\n",
        "  return TAG_RE.sub('',x)"
      ]
    },
    {
      "cell_type": "code",
      "execution_count": 51,
      "metadata": {
        "colab": {
          "base_uri": "https://localhost:8080/",
          "height": 426
        },
        "id": "QcfvXw6koT-B",
        "outputId": "1c698ba7-471d-4060-9102-7fbc4b9e23dd"
      },
      "outputs": [
        {
          "data": {
            "text/html": [
              "<div>\n",
              "<style scoped>\n",
              "    .dataframe tbody tr th:only-of-type {\n",
              "        vertical-align: middle;\n",
              "    }\n",
              "\n",
              "    .dataframe tbody tr th {\n",
              "        vertical-align: top;\n",
              "    }\n",
              "\n",
              "    .dataframe thead th {\n",
              "        text-align: right;\n",
              "    }\n",
              "</style>\n",
              "<table border=\"1\" class=\"dataframe\">\n",
              "  <thead>\n",
              "    <tr style=\"text-align: right;\">\n",
              "      <th></th>\n",
              "      <th>website</th>\n",
              "      <th>description</th>\n",
              "      <th>LogoUrl</th>\n",
              "      <th>school</th>\n",
              "      <th>school_id</th>\n",
              "    </tr>\n",
              "  </thead>\n",
              "  <tbody>\n",
              "    <tr>\n",
              "      <th>0</th>\n",
              "      <td>www.springboard.com/?utm_source=switchup&amp;utm_m...</td>\n",
              "      <td>Springboard is an online learning platform tha...</td>\n",
              "      <td>https://d92mrp7hetgfk.cloudfront.net/images/si...</td>\n",
              "      <td>springboard</td>\n",
              "      <td>11035</td>\n",
              "    </tr>\n",
              "    <tr>\n",
              "      <th>0</th>\n",
              "      <td>www.dataquest.io</td>\n",
              "      <td>Master data skills. Build your career.Dataques...</td>\n",
              "      <td>https://d92mrp7hetgfk.cloudfront.net/images/si...</td>\n",
              "      <td>dataquest</td>\n",
              "      <td>10683</td>\n",
              "    </tr>\n",
              "    <tr>\n",
              "      <th>0</th>\n",
              "      <td>www.syntaxtechs.com/</td>\n",
              "      <td>Syntax Technologies is the world’s leading onl...</td>\n",
              "      <td>https://d92mrp7hetgfk.cloudfront.net/images/si...</td>\n",
              "      <td>syntax-technologies</td>\n",
              "      <td>11797</td>\n",
              "    </tr>\n",
              "    <tr>\n",
              "      <th>0</th>\n",
              "      <td>www.ironhack.com/en</td>\n",
              "      <td>Ironhack is a global tech school with 9 campus...</td>\n",
              "      <td>https://d92mrp7hetgfk.cloudfront.net/images/si...</td>\n",
              "      <td>ironhack</td>\n",
              "      <td>10828</td>\n",
              "    </tr>\n",
              "    <tr>\n",
              "      <th>0</th>\n",
              "      <td>tripleten.com/?utm_source=referral&amp;utm_medium=...</td>\n",
              "      <td>Tripleten changed their brand name from Practi...</td>\n",
              "      <td>https://d92mrp7hetgfk.cloudfront.net/images/si...</td>\n",
              "      <td>tripleten</td>\n",
              "      <td>11225</td>\n",
              "    </tr>\n",
              "    <tr>\n",
              "      <th>0</th>\n",
              "      <td>www.colaberry.com/</td>\n",
              "      <td>Colaberry offers instructor-led remote and sel...</td>\n",
              "      <td>https://d92mrp7hetgfk.cloudfront.net/images/si...</td>\n",
              "      <td>colaberry</td>\n",
              "      <td>11718</td>\n",
              "    </tr>\n",
              "    <tr>\n",
              "      <th>0</th>\n",
              "      <td>www.mavenanalytics.io/</td>\n",
              "      <td>Maven Analytics is an online, guided learning ...</td>\n",
              "      <td>https://d92mrp7hetgfk.cloudfront.net/images/si...</td>\n",
              "      <td>maven-analytics</td>\n",
              "      <td>11740</td>\n",
              "    </tr>\n",
              "    <tr>\n",
              "      <th>0</th>\n",
              "      <td>www.udacity.com/?utm_source=switchup&amp;utm_mediu...</td>\n",
              "      <td>Udacity is the trusted market leader in talent...</td>\n",
              "      <td>https://d92mrp7hetgfk.cloudfront.net/images/si...</td>\n",
              "      <td>udacity</td>\n",
              "      <td>11118</td>\n",
              "    </tr>\n",
              "    <tr>\n",
              "      <th>0</th>\n",
              "      <td>brainstation.io</td>\n",
              "      <td>BrainStation is the global leader in digital s...</td>\n",
              "      <td>https://d92mrp7hetgfk.cloudfront.net/images/si...</td>\n",
              "      <td>brainstation</td>\n",
              "      <td>10571</td>\n",
              "    </tr>\n",
              "    <tr>\n",
              "      <th>0</th>\n",
              "      <td>ccslearningacademy.com/</td>\n",
              "      <td>TECH TRAINING BY TECH PROFESSIONALSCCS Learnin...</td>\n",
              "      <td>https://d92mrp7hetgfk.cloudfront.net/images/si...</td>\n",
              "      <td>ccs-learning-academy</td>\n",
              "      <td>11736</td>\n",
              "    </tr>\n",
              "    <tr>\n",
              "      <th>0</th>\n",
              "      <td>thinkful.com/</td>\n",
              "      <td>Thinkful teaches students how to become equipp...</td>\n",
              "      <td>https://d92mrp7hetgfk.cloudfront.net/images/si...</td>\n",
              "      <td>thinkful</td>\n",
              "      <td>11098</td>\n",
              "    </tr>\n",
              "    <tr>\n",
              "      <th>0</th>\n",
              "      <td>generalassemb.ly?utm_source=switchup&amp;utm_mediu...</td>\n",
              "      <td>General Assembly is a global community of almo...</td>\n",
              "      <td>https://d92mrp7hetgfk.cloudfront.net/images/si...</td>\n",
              "      <td>general-assembly</td>\n",
              "      <td>10761</td>\n",
              "    </tr>\n",
              "  </tbody>\n",
              "</table>\n",
              "</div>"
            ],
            "text/plain": [
              "                                             website  \\\n",
              "0  www.springboard.com/?utm_source=switchup&utm_m...   \n",
              "0                                   www.dataquest.io   \n",
              "0                               www.syntaxtechs.com/   \n",
              "0                                www.ironhack.com/en   \n",
              "0  tripleten.com/?utm_source=referral&utm_medium=...   \n",
              "0                                 www.colaberry.com/   \n",
              "0                             www.mavenanalytics.io/   \n",
              "0  www.udacity.com/?utm_source=switchup&utm_mediu...   \n",
              "0                                    brainstation.io   \n",
              "0                            ccslearningacademy.com/   \n",
              "0                                      thinkful.com/   \n",
              "0  generalassemb.ly?utm_source=switchup&utm_mediu...   \n",
              "\n",
              "                                         description  \\\n",
              "0  Springboard is an online learning platform tha...   \n",
              "0  Master data skills. Build your career.Dataques...   \n",
              "0  Syntax Technologies is the world’s leading onl...   \n",
              "0  Ironhack is a global tech school with 9 campus...   \n",
              "0  Tripleten changed their brand name from Practi...   \n",
              "0  Colaberry offers instructor-led remote and sel...   \n",
              "0  Maven Analytics is an online, guided learning ...   \n",
              "0  Udacity is the trusted market leader in talent...   \n",
              "0  BrainStation is the global leader in digital s...   \n",
              "0  TECH TRAINING BY TECH PROFESSIONALSCCS Learnin...   \n",
              "0  Thinkful teaches students how to become equipp...   \n",
              "0  General Assembly is a global community of almo...   \n",
              "\n",
              "                                             LogoUrl                school  \\\n",
              "0  https://d92mrp7hetgfk.cloudfront.net/images/si...           springboard   \n",
              "0  https://d92mrp7hetgfk.cloudfront.net/images/si...             dataquest   \n",
              "0  https://d92mrp7hetgfk.cloudfront.net/images/si...   syntax-technologies   \n",
              "0  https://d92mrp7hetgfk.cloudfront.net/images/si...              ironhack   \n",
              "0  https://d92mrp7hetgfk.cloudfront.net/images/si...             tripleten   \n",
              "0  https://d92mrp7hetgfk.cloudfront.net/images/si...             colaberry   \n",
              "0  https://d92mrp7hetgfk.cloudfront.net/images/si...       maven-analytics   \n",
              "0  https://d92mrp7hetgfk.cloudfront.net/images/si...               udacity   \n",
              "0  https://d92mrp7hetgfk.cloudfront.net/images/si...          brainstation   \n",
              "0  https://d92mrp7hetgfk.cloudfront.net/images/si...  ccs-learning-academy   \n",
              "0  https://d92mrp7hetgfk.cloudfront.net/images/si...              thinkful   \n",
              "0  https://d92mrp7hetgfk.cloudfront.net/images/si...      general-assembly   \n",
              "\n",
              "   school_id  \n",
              "0      11035  \n",
              "0      10683  \n",
              "0      11797  \n",
              "0      10828  \n",
              "0      11225  \n",
              "0      11718  \n",
              "0      11740  \n",
              "0      11118  \n",
              "0      10571  \n",
              "0      11736  \n",
              "0      11098  \n",
              "0      10761  "
            ]
          },
          "execution_count": 51,
          "metadata": {},
          "output_type": "execute_result"
        }
      ],
      "source": [
        "schools['description'] = schools['description'].apply(remove_tags)\n",
        "schools"
      ]
    },
    {
      "cell_type": "code",
      "execution_count": 52,
      "metadata": {
        "colab": {
          "base_uri": "https://localhost:8080/"
        },
        "id": "S_kMu5zloT-B",
        "outputId": "a6b19367-3f12-4911-857e-91a76fd95f29"
      },
      "outputs": [
        {
          "data": {
            "text/plain": [
              "Index(['website', 'description', 'LogoUrl', 'school', 'school_id'], dtype='object')"
            ]
          },
          "execution_count": 52,
          "metadata": {},
          "output_type": "execute_result"
        }
      ],
      "source": [
        "schools.columns"
      ]
    },
    {
      "cell_type": "code",
      "execution_count": 53,
      "metadata": {
        "id": "dFycZVFuoT-C"
      },
      "outputs": [],
      "source": [
        "# Create an empty list to store the data\n",
        "course_prices_list = []\n",
        "\n",
        "for school_name in school_list:\n",
        "    url = f\"https://www.switchup.org/bootcamps/{school_name.lower().replace(' ', '-')}\"\n",
        "    headers = {'User-Agent': 'Mozilla/5.0 (Windows NT 10.0; Win64; x64) AppleWebKit/537.36 (KHTML, like Gecko) Chrome/111.0.0.0 Safari/537.36'}\n",
        "\n",
        "    try:\n",
        "        response = requests.get(url, headers=headers)\n",
        "\n",
        "        if response.status_code == 200:\n",
        "            soup = BeautifulSoup(response.text, 'html.parser')\n",
        "\n",
        "            # Find all course__inner elements\n",
        "            course_inners = soup.find_all('div', class_='course__inner')\n",
        "\n",
        "            if course_inners:\n",
        "                # Iterate over each course__inner element\n",
        "                for course_inner in course_inners:\n",
        "\n",
        "                    # Extract school name\n",
        "                    school_name = school_name\n",
        "\n",
        "                    # Extract course name\n",
        "                    course_name = course_inner.find('h4').text.strip()\n",
        "\n",
        "                    # Extract cost information\n",
        "                    cost_div = course_inner.find('div', class_='cost')\n",
        "                    if cost_div:\n",
        "                        cost = cost_div.find('span').text.strip()\n",
        "                    else:\n",
        "                        cost = \"Not found\"\n",
        "\n",
        "                    # Append data to the list\n",
        "                    course_prices_list.append({\n",
        "                        'school': school_name,\n",
        "                        'course': course_name,\n",
        "                        'price': cost})\n",
        "\n",
        "            else:\n",
        "                print(f\"{school_name}: Not found\")\n",
        "\n",
        "    except requests.RequestException as e:\n",
        "        print(f\"Error for {school_name}: {e}\")\n",
        "\n",
        "    except Exception as e:\n",
        "        print(f\"An unexpected error occurred: {e}\")\n",
        "\n",
        "# Create a DataFrame from the list of dictionaries\n",
        "course_prices = pd.DataFrame(course_prices_list)\n"
      ]
    },
    {
      "cell_type": "code",
      "execution_count": 54,
      "metadata": {
        "colab": {
          "base_uri": "https://localhost:8080/"
        },
        "id": "edW_ILe5oT-C",
        "outputId": "b2577b51-ca00-4224-9e23-a688f43e4d12"
      },
      "outputs": [
        {
          "data": {
            "text/plain": [
              "school    object\n",
              "course    object\n",
              "price     object\n",
              "dtype: object"
            ]
          },
          "execution_count": 54,
          "metadata": {},
          "output_type": "execute_result"
        }
      ],
      "source": [
        "course_prices.dtypes"
      ]
    },
    {
      "cell_type": "code",
      "execution_count": 55,
      "metadata": {
        "colab": {
          "base_uri": "https://localhost:8080/"
        },
        "id": "UVtzEeIhoT-C",
        "outputId": "70d42b0b-d3d8-4fc6-9aeb-670a22601b8f"
      },
      "outputs": [
        {
          "data": {
            "text/plain": [
              "$4,500               5\n",
              "$3,250               5\n",
              "Not found            4\n",
              "$3,950               4\n",
              "$9,900               4\n",
              "$1,077               4\n",
              "$9,500               3\n",
              "$16,450              3\n",
              "$1,436               3\n",
              "€7,500               3\n",
              "$16,500              2\n",
              "$2,154               2\n",
              "$4,900               2\n",
              "$9,700               2\n",
              "$13,000              2\n",
              "$12,000              2\n",
              "$29                  2\n",
              "$349                 2\n",
              "$7,995               1\n",
              "$16,000              1\n",
              "$12,250              1\n",
              "$8,000               1\n",
              "$8,995               1\n",
              "$6,500               1\n",
              "$12,150              1\n",
              "$11,995              1\n",
              "$718                 1\n",
              "$12,995              1\n",
              "$7,499               1\n",
              "$1,500   - $4,000    1\n",
              "$1,999               1\n",
              "$6,900               1\n",
              "$7,900               1\n",
              "€8,000               1\n",
              "$5,900               1\n",
              "$490                 1\n",
              "$8,500               1\n",
              "$3,500               1\n",
              "Name: price, dtype: int64"
            ]
          },
          "execution_count": 55,
          "metadata": {},
          "output_type": "execute_result"
        }
      ],
      "source": [
        "course_prices.price.value_counts()"
      ]
    },
    {
      "cell_type": "code",
      "execution_count": 56,
      "metadata": {
        "id": "7kULq9_1oT-C"
      },
      "outputs": [],
      "source": [
        "# formatting the prices to make it easier to transform them in numbers\n",
        "course_prices['price'] = course_prices['price'].replace('[\\$,]', '', regex=True)"
      ]
    },
    {
      "cell_type": "code",
      "execution_count": 57,
      "metadata": {
        "id": "aHdH5MjqojGQ"
      },
      "outputs": [],
      "source": [
        "course_prices['price'] = course_prices['price'].replace('[\\€,]', '', regex=True)"
      ]
    },
    {
      "cell_type": "code",
      "execution_count": 58,
      "metadata": {
        "colab": {
          "base_uri": "https://localhost:8080/"
        },
        "id": "V3w7vUA9oT-C",
        "outputId": "9fc0b74e-b2fb-4d58-8398-f304a1a74ced"
      },
      "outputs": [
        {
          "data": {
            "text/plain": [
              "0     Not found\n",
              "1          9900\n",
              "2          8500\n",
              "3          9900\n",
              "4           490\n",
              "        ...    \n",
              "69         4500\n",
              "70         4500\n",
              "71         4500\n",
              "72         3500\n",
              "73        16450\n",
              "Name: price, Length: 74, dtype: object"
            ]
          },
          "execution_count": 58,
          "metadata": {},
          "output_type": "execute_result"
        }
      ],
      "source": [
        "course_prices.price"
      ]
    },
    {
      "cell_type": "code",
      "execution_count": 59,
      "metadata": {
        "colab": {
          "base_uri": "https://localhost:8080/",
          "height": 424
        },
        "id": "ybUvH3sroT-C",
        "outputId": "efbec204-45cd-437d-f580-36a484d81da8"
      },
      "outputs": [
        {
          "data": {
            "text/html": [
              "<div>\n",
              "<style scoped>\n",
              "    .dataframe tbody tr th:only-of-type {\n",
              "        vertical-align: middle;\n",
              "    }\n",
              "\n",
              "    .dataframe tbody tr th {\n",
              "        vertical-align: top;\n",
              "    }\n",
              "\n",
              "    .dataframe thead th {\n",
              "        text-align: right;\n",
              "    }\n",
              "</style>\n",
              "<table border=\"1\" class=\"dataframe\">\n",
              "  <thead>\n",
              "    <tr style=\"text-align: right;\">\n",
              "      <th></th>\n",
              "      <th>school</th>\n",
              "      <th>course</th>\n",
              "      <th>price</th>\n",
              "    </tr>\n",
              "  </thead>\n",
              "  <tbody>\n",
              "    <tr>\n",
              "      <th>0</th>\n",
              "      <td>Springboard</td>\n",
              "      <td>Front-End Web Development</td>\n",
              "      <td>Not found</td>\n",
              "    </tr>\n",
              "    <tr>\n",
              "      <th>1</th>\n",
              "      <td>Springboard</td>\n",
              "      <td>Cyber Security Career Track</td>\n",
              "      <td>9900</td>\n",
              "    </tr>\n",
              "    <tr>\n",
              "      <th>2</th>\n",
              "      <td>Springboard</td>\n",
              "      <td>Data Analytics Career Track</td>\n",
              "      <td>8500</td>\n",
              "    </tr>\n",
              "    <tr>\n",
              "      <th>3</th>\n",
              "      <td>Springboard</td>\n",
              "      <td>Data Science Career Track</td>\n",
              "      <td>9900</td>\n",
              "    </tr>\n",
              "    <tr>\n",
              "      <th>4</th>\n",
              "      <td>Springboard</td>\n",
              "      <td>Data Science Career Track Prep</td>\n",
              "      <td>490</td>\n",
              "    </tr>\n",
              "    <tr>\n",
              "      <th>...</th>\n",
              "      <td>...</td>\n",
              "      <td>...</td>\n",
              "      <td>...</td>\n",
              "    </tr>\n",
              "    <tr>\n",
              "      <th>69</th>\n",
              "      <td>General Assembly</td>\n",
              "      <td>User Experience Design (Short Course)</td>\n",
              "      <td>4500</td>\n",
              "    </tr>\n",
              "    <tr>\n",
              "      <th>70</th>\n",
              "      <td>General Assembly</td>\n",
              "      <td>Front-End Web Development (Short Course)</td>\n",
              "      <td>4500</td>\n",
              "    </tr>\n",
              "    <tr>\n",
              "      <th>71</th>\n",
              "      <td>General Assembly</td>\n",
              "      <td>Product Management (Short Course)</td>\n",
              "      <td>4500</td>\n",
              "    </tr>\n",
              "    <tr>\n",
              "      <th>72</th>\n",
              "      <td>General Assembly</td>\n",
              "      <td>Visual Design (Short Course)</td>\n",
              "      <td>3500</td>\n",
              "    </tr>\n",
              "    <tr>\n",
              "      <th>73</th>\n",
              "      <td>General Assembly</td>\n",
              "      <td>Data Science Bootcamp (Full-Time)</td>\n",
              "      <td>16450</td>\n",
              "    </tr>\n",
              "  </tbody>\n",
              "</table>\n",
              "<p>74 rows × 3 columns</p>\n",
              "</div>"
            ],
            "text/plain": [
              "              school                                    course      price\n",
              "0        Springboard                 Front-End Web Development  Not found\n",
              "1        Springboard               Cyber Security Career Track       9900\n",
              "2        Springboard               Data Analytics Career Track       8500\n",
              "3        Springboard                 Data Science Career Track       9900\n",
              "4        Springboard            Data Science Career Track Prep        490\n",
              "..               ...                                       ...        ...\n",
              "69  General Assembly     User Experience Design (Short Course)       4500\n",
              "70  General Assembly  Front-End Web Development (Short Course)       4500\n",
              "71  General Assembly         Product Management (Short Course)       4500\n",
              "72  General Assembly              Visual Design (Short Course)       3500\n",
              "73  General Assembly         Data Science Bootcamp (Full-Time)      16450\n",
              "\n",
              "[74 rows x 3 columns]"
            ]
          },
          "execution_count": 59,
          "metadata": {},
          "output_type": "execute_result"
        }
      ],
      "source": [
        "course_prices"
      ]
    },
    {
      "cell_type": "code",
      "execution_count": 60,
      "metadata": {
        "id": "1Y7jr_3zoT-D"
      },
      "outputs": [],
      "source": [
        "course_prices['school'] = course_prices['school'].str.lower().str.replace(' ','-')"
      ]
    },
    {
      "cell_type": "code",
      "execution_count": 61,
      "metadata": {
        "colab": {
          "base_uri": "https://localhost:8080/"
        },
        "id": "9UXfOUF6oT-D",
        "outputId": "fb52d38d-57a3-44d6-eafe-252a3c9f208d"
      },
      "outputs": [
        {
          "data": {
            "text/plain": [
              "{'springboard': 11035,\n",
              " 'dataquest': 10683,\n",
              " 'syntax-technologies': 11797,\n",
              " 'ironhack': 10828,\n",
              " 'tripleten': 11225,\n",
              " 'colaberry': 11718,\n",
              " 'maven-analytics': 11740,\n",
              " 'udacity': 11118,\n",
              " 'brainstation': 10571,\n",
              " 'ccs-learning-academy': 11736,\n",
              " 'thinkful': 11098,\n",
              " 'general-assembly': 10761}"
            ]
          },
          "execution_count": 61,
          "metadata": {},
          "output_type": "execute_result"
        }
      ],
      "source": [
        "school_id_dict"
      ]
    },
    {
      "cell_type": "code",
      "execution_count": 62,
      "metadata": {
        "colab": {
          "base_uri": "https://localhost:8080/",
          "height": 424
        },
        "id": "jYaOHMs7oT-D",
        "outputId": "4e1bdcd4-9ed8-4a80-d9d8-c723fbd2045f"
      },
      "outputs": [
        {
          "data": {
            "text/html": [
              "<div>\n",
              "<style scoped>\n",
              "    .dataframe tbody tr th:only-of-type {\n",
              "        vertical-align: middle;\n",
              "    }\n",
              "\n",
              "    .dataframe tbody tr th {\n",
              "        vertical-align: top;\n",
              "    }\n",
              "\n",
              "    .dataframe thead th {\n",
              "        text-align: right;\n",
              "    }\n",
              "</style>\n",
              "<table border=\"1\" class=\"dataframe\">\n",
              "  <thead>\n",
              "    <tr style=\"text-align: right;\">\n",
              "      <th></th>\n",
              "      <th>school</th>\n",
              "      <th>course</th>\n",
              "      <th>price</th>\n",
              "      <th>school_id</th>\n",
              "    </tr>\n",
              "  </thead>\n",
              "  <tbody>\n",
              "    <tr>\n",
              "      <th>0</th>\n",
              "      <td>springboard</td>\n",
              "      <td>Front-End Web Development</td>\n",
              "      <td>Not found</td>\n",
              "      <td>11035</td>\n",
              "    </tr>\n",
              "    <tr>\n",
              "      <th>1</th>\n",
              "      <td>springboard</td>\n",
              "      <td>Cyber Security Career Track</td>\n",
              "      <td>9900</td>\n",
              "      <td>11035</td>\n",
              "    </tr>\n",
              "    <tr>\n",
              "      <th>2</th>\n",
              "      <td>springboard</td>\n",
              "      <td>Data Analytics Career Track</td>\n",
              "      <td>8500</td>\n",
              "      <td>11035</td>\n",
              "    </tr>\n",
              "    <tr>\n",
              "      <th>3</th>\n",
              "      <td>springboard</td>\n",
              "      <td>Data Science Career Track</td>\n",
              "      <td>9900</td>\n",
              "      <td>11035</td>\n",
              "    </tr>\n",
              "    <tr>\n",
              "      <th>4</th>\n",
              "      <td>springboard</td>\n",
              "      <td>Data Science Career Track Prep</td>\n",
              "      <td>490</td>\n",
              "      <td>11035</td>\n",
              "    </tr>\n",
              "    <tr>\n",
              "      <th>...</th>\n",
              "      <td>...</td>\n",
              "      <td>...</td>\n",
              "      <td>...</td>\n",
              "      <td>...</td>\n",
              "    </tr>\n",
              "    <tr>\n",
              "      <th>69</th>\n",
              "      <td>general-assembly</td>\n",
              "      <td>User Experience Design (Short Course)</td>\n",
              "      <td>4500</td>\n",
              "      <td>10761</td>\n",
              "    </tr>\n",
              "    <tr>\n",
              "      <th>70</th>\n",
              "      <td>general-assembly</td>\n",
              "      <td>Front-End Web Development (Short Course)</td>\n",
              "      <td>4500</td>\n",
              "      <td>10761</td>\n",
              "    </tr>\n",
              "    <tr>\n",
              "      <th>71</th>\n",
              "      <td>general-assembly</td>\n",
              "      <td>Product Management (Short Course)</td>\n",
              "      <td>4500</td>\n",
              "      <td>10761</td>\n",
              "    </tr>\n",
              "    <tr>\n",
              "      <th>72</th>\n",
              "      <td>general-assembly</td>\n",
              "      <td>Visual Design (Short Course)</td>\n",
              "      <td>3500</td>\n",
              "      <td>10761</td>\n",
              "    </tr>\n",
              "    <tr>\n",
              "      <th>73</th>\n",
              "      <td>general-assembly</td>\n",
              "      <td>Data Science Bootcamp (Full-Time)</td>\n",
              "      <td>16450</td>\n",
              "      <td>10761</td>\n",
              "    </tr>\n",
              "  </tbody>\n",
              "</table>\n",
              "<p>74 rows × 4 columns</p>\n",
              "</div>"
            ],
            "text/plain": [
              "              school                                    course      price  \\\n",
              "0        springboard                 Front-End Web Development  Not found   \n",
              "1        springboard               Cyber Security Career Track       9900   \n",
              "2        springboard               Data Analytics Career Track       8500   \n",
              "3        springboard                 Data Science Career Track       9900   \n",
              "4        springboard            Data Science Career Track Prep        490   \n",
              "..               ...                                       ...        ...   \n",
              "69  general-assembly     User Experience Design (Short Course)       4500   \n",
              "70  general-assembly  Front-End Web Development (Short Course)       4500   \n",
              "71  general-assembly         Product Management (Short Course)       4500   \n",
              "72  general-assembly              Visual Design (Short Course)       3500   \n",
              "73  general-assembly         Data Science Bootcamp (Full-Time)      16450   \n",
              "\n",
              "    school_id  \n",
              "0       11035  \n",
              "1       11035  \n",
              "2       11035  \n",
              "3       11035  \n",
              "4       11035  \n",
              "..        ...  \n",
              "69      10761  \n",
              "70      10761  \n",
              "71      10761  \n",
              "72      10761  \n",
              "73      10761  \n",
              "\n",
              "[74 rows x 4 columns]"
            ]
          },
          "execution_count": 62,
          "metadata": {},
          "output_type": "execute_result"
        }
      ],
      "source": [
        "course_prices['school_id'] = course_prices['school'].map(school_id_dict)\n",
        "course_prices"
      ]
    },
    {
      "cell_type": "code",
      "execution_count": 63,
      "metadata": {},
      "outputs": [],
      "source": [
        "comments.loc[comments['jobTitle'] == '', 'jobTitle'] = 'Not specified'"
      ]
    },
    {
      "cell_type": "code",
      "execution_count": 64,
      "metadata": {},
      "outputs": [],
      "source": [
        "comments.dropna(subset='jobTitle', inplace=True)"
      ]
    },
    {
      "cell_type": "code",
      "execution_count": 65,
      "metadata": {},
      "outputs": [
        {
          "data": {
            "text/plain": [
              "id                 0\n",
              "name               0\n",
              "hostProgramName    0\n",
              "graduatingYear     0\n",
              "isAlumni           0\n",
              "jobTitle           0\n",
              "tagline            0\n",
              "overallScore       0\n",
              "curriculum         0\n",
              "jobSupport         0\n",
              "review_body        0\n",
              "school             0\n",
              "school_id          0\n",
              "dtype: int64"
            ]
          },
          "execution_count": 65,
          "metadata": {},
          "output_type": "execute_result"
        }
      ],
      "source": [
        "comments.isnull().sum()"
      ]
    },
    {
      "cell_type": "code",
      "execution_count": 66,
      "metadata": {},
      "outputs": [],
      "source": [
        "comments.drop(columns='name', inplace=True)"
      ]
    },
    {
      "cell_type": "code",
      "execution_count": 67,
      "metadata": {},
      "outputs": [],
      "source": [
        "comments.drop(columns='school', inplace=True)"
      ]
    },
    {
      "cell_type": "code",
      "execution_count": null,
      "metadata": {},
      "outputs": [],
      "source": [
        "#export of filtered comments with numerical columns to perform some queries"
      ]
    },
    {
      "cell_type": "code",
      "execution_count": 68,
      "metadata": {},
      "outputs": [],
      "source": [
        "comments_numeric = comments.drop(columns={'hostProgramName', 'isAlumni', 'jobTitle', 'tagline', 'review_body'})"
      ]
    },
    {
      "cell_type": "code",
      "execution_count": 69,
      "metadata": {},
      "outputs": [],
      "source": [
        "comments_numeric.to_csv('comments_numeric.csv', index=False)"
      ]
    },
    {
      "cell_type": "code",
      "execution_count": 70,
      "metadata": {
        "id": "93GO42K0oT-D"
      },
      "outputs": [],
      "source": [
        "comments.to_csv('comments.csv', index=False)\n",
        "schools.to_csv('schools.csv', index=False)\n",
        "badges.to_csv('badges', index=False)\n",
        "locations.to_csv('locations.csv', index=False)\n",
        "courses.to_csv('courses.csv', index=False)\n",
        "course_prices.to_csv('course_prices.csv', index=False)"
      ]
    },
    {
      "cell_type": "code",
      "execution_count": null,
      "metadata": {},
      "outputs": [],
      "source": [
        "#attempts to eliminate special charchters from object type columns: WIP"
      ]
    },
    {
      "cell_type": "code",
      "execution_count": 71,
      "metadata": {},
      "outputs": [
        {
          "name": "stdout",
          "output_type": "stream",
          "text": [
            "<class 'pandas.core.frame.DataFrame'>\n",
            "RangeIndex: 6173 entries, 0 to 6172\n",
            "Data columns (total 11 columns):\n",
            " #   Column           Non-Null Count  Dtype  \n",
            "---  ------           --------------  -----  \n",
            " 0   id               6173 non-null   int64  \n",
            " 1   hostProgramName  6173 non-null   object \n",
            " 2   graduatingYear   6173 non-null   int64  \n",
            " 3   isAlumni         6173 non-null   bool   \n",
            " 4   jobTitle         6167 non-null   object \n",
            " 5   tagline          6173 non-null   object \n",
            " 6   overallScore     6173 non-null   float64\n",
            " 7   curriculum       6173 non-null   float64\n",
            " 8   jobSupport       6173 non-null   float64\n",
            " 9   review_body      6173 non-null   object \n",
            " 10  school_id        6173 non-null   int64  \n",
            "dtypes: bool(1), float64(3), int64(3), object(4)\n",
            "memory usage: 488.4+ KB\n",
            "None\n"
          ]
        }
      ],
      "source": [
        "# trying to troubleshoot the huge loss of data when importing comments\n",
        "trial_df = pd.read_csv('comments.csv')\n",
        "print(trial_df.info())\n"
      ]
    },
    {
      "cell_type": "code",
      "execution_count": 72,
      "metadata": {},
      "outputs": [
        {
          "name": "stdout",
          "output_type": "stream",
          "text": [
            "Missing values:\n",
            " id                 0\n",
            "hostProgramName    0\n",
            "graduatingYear     0\n",
            "isAlumni           0\n",
            "jobTitle           6\n",
            "tagline            0\n",
            "overallScore       0\n",
            "curriculum         0\n",
            "jobSupport         0\n",
            "review_body        0\n",
            "school_id          0\n",
            "dtype: int64\n"
          ]
        }
      ],
      "source": [
        "# Check for any missing values in the DataFrame\n",
        "print(\"Missing values:\\n\", trial_df.isnull().sum())"
      ]
    },
    {
      "cell_type": "code",
      "execution_count": 73,
      "metadata": {},
      "outputs": [
        {
          "data": {
            "text/plain": [
              "306638    1\n",
              "257068    1\n",
              "256971    1\n",
              "256973    1\n",
              "256974    1\n",
              "         ..\n",
              "267640    1\n",
              "267742    1\n",
              "267864    1\n",
              "267895    1\n",
              "231691    1\n",
              "Name: id, Length: 6173, dtype: int64"
            ]
          },
          "execution_count": 73,
          "metadata": {},
          "output_type": "execute_result"
        }
      ],
      "source": [
        "# Check for unique values in id column\n",
        "trial_df.id.value_counts(ascending=False)"
      ]
    },
    {
      "cell_type": "code",
      "execution_count": 81,
      "metadata": {},
      "outputs": [
        {
          "name": "stdout",
          "output_type": "stream",
          "text": [
            "Special characters in hostProgramName:\n",
            "          id hostProgramName  graduatingYear  isAlumni  \\\n",
            "918   267361    UX/UI Design            2020     False   \n",
            "919   267344    UX/UI Design            2020     False   \n",
            "924   267000    UX/UI Design            2020     False   \n",
            "925   266956    UX/UI Design            2020     False   \n",
            "926   266952    UX/UI Design            2020     False   \n",
            "...      ...             ...             ...       ...   \n",
            "6131  236669    UX/UI Design            2016      True   \n",
            "6132  244743    UX/UI Design            2015      True   \n",
            "6135  244731    UX/UI Design            2016      True   \n",
            "6153  244545    UX/UI Design            2016      True   \n",
            "6168  232579    UX/UI Design            2015      True   \n",
            "\n",
            "                    jobTitle  \\\n",
            "918            Not specified   \n",
            "919   UX designer/consultant   \n",
            "924     UX Research/Designer   \n",
            "925          UX/ UI Designer   \n",
            "926            Not specified   \n",
            "...                      ...   \n",
            "6131     Creative Specialist   \n",
            "6132        Product Designer   \n",
            "6135             UX Designer   \n",
            "6153             UX Designer   \n",
            "6168           Not specified   \n",
            "\n",
            "                                                tagline  overallScore  \\\n",
            "918   Formalized UX Knowledge Propelling a Career Ch...           4.3   \n",
            "919                   Springboard always has your back!           4.3   \n",
            "924                                Would 100% Recommend           4.7   \n",
            "925   My experience with Springboard was fantastic! ...           5.0   \n",
            "926                            Springboard UI/UI Course           4.7   \n",
            "...                                                 ...           ...   \n",
            "6131                                           Engaging           3.3   \n",
            "6132                       You Get What You Put Into GA           3.7   \n",
            "6135           Great way to kickstart a new career path           4.0   \n",
            "6153                                        UX Bootcamp           5.0   \n",
            "6168                         GA is great on most levels           4.0   \n",
            "\n",
            "      curriculum  jobSupport  \\\n",
            "918          5.0         4.0   \n",
            "919          4.0         4.0   \n",
            "924          4.0         5.0   \n",
            "925          5.0         5.0   \n",
            "926          4.0         5.0   \n",
            "...          ...         ...   \n",
            "6131         3.0         3.0   \n",
            "6132         4.0         3.0   \n",
            "6135         3.0         4.0   \n",
            "6153         5.0         5.0   \n",
            "6168         4.0         4.0   \n",
            "\n",
            "                                            review_body school_id  \n",
            "918   Motivated career switchers, rejoice! Springboa...     11035  \n",
            "919   Trying to start a new career in always a hard ...     11035  \n",
            "924   Loved my experience!! Incredible mentorship op...     11035  \n",
            "925   When I was first looking at UX design courses ...     11035  \n",
            "926   I can't say I was expecting to take another bo...     11035  \n",
            "...                                                 ...       ...  \n",
            "6131  I took the part-time course and had a great ti...     10761  \n",
            "6132  I came to GA with a background in recruiting a...     10761  \n",
            "6135  Pros:1. You get an overview of what it means t...     10761  \n",
            "6153  I enrolled in the UX Design bootcamp last fall...     10761  \n",
            "6168  Pros: Great environment, phenomenal network, a...     10761  \n",
            "\n",
            "[656 rows x 11 columns]\n",
            "Special characters in jobTitle:\n",
            "          id  hostProgramName  graduatingYear  isAlumni  \\\n",
            "4     306451    Not specified            2023      True   \n",
            "25    304506    Not specified            2023     False   \n",
            "30    304324    Not specified            2023     False   \n",
            "31    304290    Not specified            2023     False   \n",
            "35    304112    Not specified            2023     False   \n",
            "...      ...              ...             ...       ...   \n",
            "6127  235612  Web Development            2015      True   \n",
            "6141  235360  Web Development            2015      True   \n",
            "6142  244719    Not specified            2014      True   \n",
            "6161  234327    Not specified            2016      True   \n",
            "6162  234332    Not specified            2016      True   \n",
            "\n",
            "                                   jobTitle  \\\n",
            "4                              UX/UI Design   \n",
            "25                           UI/UX Designer   \n",
            "30                           UX/UI Designer   \n",
            "31                           UX/UI Designer   \n",
            "35                           UX/UI Designer   \n",
            "...                                     ...   \n",
            "6127                  Jr. Software Engineer   \n",
            "6141  Paralegal (with occasional IT duties)   \n",
            "6142     Design Lead - Consumer Watson IoT    \n",
            "6161                    Sr. Product Manager   \n",
            "6162        UX Designer | Creative Director   \n",
            "\n",
            "                                                tagline  overallScore  \\\n",
            "4                                             Wonderful           4.3   \n",
            "25                                 Totally recommend it           5.0   \n",
            "30    Interact with mentors, coaches, other students...           3.3   \n",
            "31                          Overall Positive Experience           5.0   \n",
            "35                                     Great Experience           5.0   \n",
            "...                                                 ...           ...   \n",
            "6127                      Really supportive environment           4.0   \n",
            "6141          Good primer for Front End Web Development           5.0   \n",
            "6142                              Rock solid foundation           3.0   \n",
            "6161               A+ on entry level Product Management           4.7   \n",
            "6162                                  GA Seattle Rocks!           4.7   \n",
            "\n",
            "      curriculum  jobSupport  \\\n",
            "4            5.0         4.0   \n",
            "25           5.0         5.0   \n",
            "30           2.0         5.0   \n",
            "31           5.0         5.0   \n",
            "35           5.0         5.0   \n",
            "...          ...         ...   \n",
            "6127         4.0         4.0   \n",
            "6141         5.0         5.0   \n",
            "6142         4.0         1.0   \n",
            "6161         5.0         5.0   \n",
            "6162         5.0         4.0   \n",
            "\n",
            "                                            review_body school_id  \n",
            "4     Pros: I found the Springboard bootcamp to be i...     11035  \n",
            "25    I recently completed the Springboard UX bootca...     11035  \n",
            "30    I recently completed the UI/UX Design Career c...     11035  \n",
            "31    When I started the program, I was concerned it...     11035  \n",
            "35    I completed the UX/UI Design Career track and ...     11035  \n",
            "...                                                 ...       ...  \n",
            "6127  I did the Web Development Immersive program th...     10761  \n",
            "6141  Great hands on experience with coding and teac...     10761  \n",
            "6142  This program changed my life. After taking thi...     10761  \n",
            "6161  Product Managment Certification (Part-Time)I w...     10761  \n",
            "6162  The User Experience Design Immersive Program w...     10761  \n",
            "\n",
            "[397 rows x 11 columns]\n",
            "Special characters in tagline:\n",
            "          id  hostProgramName  graduatingYear  isAlumni  \\\n",
            "0     306638    Not specified            2023     False   \n",
            "2     306505    Not specified            2023     False   \n",
            "3     306504    Not specified            2023     False   \n",
            "8     305884    Not specified            2023     False   \n",
            "9     305843    Not specified            2023     False   \n",
            "...      ...              ...             ...       ...   \n",
            "6165  239280    Not specified            2016      True   \n",
            "6166  237316  Web Development            2015      True   \n",
            "6167  232600  Web Development            2014      True   \n",
            "6169  232573    Not specified            2015      True   \n",
            "6172  231691    Not specified            2013      True   \n",
            "\n",
            "                                    jobTitle  \\\n",
            "0                              Not specified   \n",
            "2                              Not specified   \n",
            "3                              Not specified   \n",
            "8                              Not specified   \n",
            "9                              Not specified   \n",
            "...                                      ...   \n",
            "6165                           Not specified   \n",
            "6166                           Not specified   \n",
            "6167                           Not specified   \n",
            "6169                           Not specified   \n",
            "6172  Software Developer at Cengage Learning   \n",
            "\n",
            "                                                tagline  overallScore  \\\n",
            "0     Very accommodating. Take Springboard if you wa...           3.7   \n",
            "2     Join if you're looking to structure &amp; Netw...           4.0   \n",
            "3     Join if you're looking to structure &amp; Netw...           4.0   \n",
            "8                              Springboard UI/UX course           4.7   \n",
            "9              One of the best decisions i've ever made           5.0   \n",
            "...                                                 ...           ...   \n",
            "6165  As well managed as an insane asylum, inexperie...           1.0   \n",
            "6166       Moved Across the Country for This - Worth It           5.0   \n",
            "6167                               10/10 would do again           5.0   \n",
            "6169  General Assembly UXDI an amazing experience, i...           4.3   \n",
            "6172  From 2nd grade teacher to full-stack web devel...           5.0   \n",
            "\n",
            "      curriculum  jobSupport  \\\n",
            "0            4.0         3.0   \n",
            "2            4.0         4.0   \n",
            "3            4.0         4.0   \n",
            "8            5.0         5.0   \n",
            "9            5.0         5.0   \n",
            "...          ...         ...   \n",
            "6165         1.0         1.0   \n",
            "6166         5.0         5.0   \n",
            "6167         5.0         5.0   \n",
            "6169         4.0         4.0   \n",
            "6172         5.0         5.0   \n",
            "\n",
            "                                            review_body school_id  \n",
            "0     When I was looking at which bootcamp to do for...     11035  \n",
            "2     If you find yourself unsure of where to begin,...     11035  \n",
            "3     If you find yourself unsure of where to begin,...     11035  \n",
            "8     From the get go, I felt slightly overwhelmed, ...     11035  \n",
            "9     attending the cyber security course on springb...     11035  \n",
            "...                                                 ...       ...  \n",
            "6165  I am deeply disturbed by this program and its ...     10761  \n",
            "6166  Coming from marketing and sales background wit...     10761  \n",
            "6167  In October, I took the Bitmaker Lab's Web Deve...     10761  \n",
            "6169  I was beyond impressed by my experience at Gen...     10761  \n",
            "6172  My experience at General Assembly's Web Develo...     10761  \n",
            "\n",
            "[2867 rows x 11 columns]\n",
            "Special characters in review_body:\n",
            "          id hostProgramName  graduatingYear  isAlumni  \\\n",
            "0     306638   Not specified            2023     False   \n",
            "1     306549   Not specified            2023     False   \n",
            "2     306505   Not specified            2023     False   \n",
            "3     306504   Not specified            2023     False   \n",
            "4     306451   Not specified            2023      True   \n",
            "...      ...             ...             ...       ...   \n",
            "6168  232579    UX/UI Design            2015      True   \n",
            "6169  232573   Not specified            2015      True   \n",
            "6170  232490   Not specified            2015      True   \n",
            "6171  232206   Not specified            2014      True   \n",
            "6172  231691   Not specified            2013      True   \n",
            "\n",
            "                                    jobTitle  \\\n",
            "0                              Not specified   \n",
            "1                              Not specified   \n",
            "2                              Not specified   \n",
            "3                              Not specified   \n",
            "4                               UX/UI Design   \n",
            "...                                      ...   \n",
            "6168                           Not specified   \n",
            "6169                           Not specified   \n",
            "6170                           Not specified   \n",
            "6171                           Not specified   \n",
            "6172  Software Developer at Cengage Learning   \n",
            "\n",
            "                                                tagline  overallScore  \\\n",
            "0     Very accommodating. Take Springboard if you wa...           3.7   \n",
            "1                   Extensive and well built curriculum           4.3   \n",
            "2     Join if you're looking to structure &amp; Netw...           4.0   \n",
            "3     Join if you're looking to structure &amp; Netw...           4.0   \n",
            "4                                             Wonderful           4.3   \n",
            "...                                                 ...           ...   \n",
            "6168                         GA is great on most levels           4.0   \n",
            "6169  General Assembly UXDI an amazing experience, i...           4.3   \n",
            "6170  Incredible Learning Opportunity for Digital Ma...           5.0   \n",
            "6171          Not The Best Bootcamp I Could Have Chosen           1.7   \n",
            "6172  From 2nd grade teacher to full-stack web devel...           5.0   \n",
            "\n",
            "      curriculum  jobSupport  \\\n",
            "0            4.0         3.0   \n",
            "1            5.0         4.0   \n",
            "2            4.0         4.0   \n",
            "3            4.0         4.0   \n",
            "4            5.0         4.0   \n",
            "...          ...         ...   \n",
            "6168         4.0         4.0   \n",
            "6169         4.0         4.0   \n",
            "6170         5.0         5.0   \n",
            "6171         2.0         1.0   \n",
            "6172         5.0         5.0   \n",
            "\n",
            "                                            review_body school_id  \n",
            "0     When I was looking at which bootcamp to do for...     11035  \n",
            "1     This course is great for beginners. The curric...     11035  \n",
            "2     If you find yourself unsure of where to begin,...     11035  \n",
            "3     If you find yourself unsure of where to begin,...     11035  \n",
            "4     Pros: I found the Springboard bootcamp to be i...     11035  \n",
            "...                                                 ...       ...  \n",
            "6168  Pros: Great environment, phenomenal network, a...     10761  \n",
            "6169  I was beyond impressed by my experience at Gen...     10761  \n",
            "6170  I recently completed an Ad Optimization part t...     10761  \n",
            "6171  I wouldn't say that Bitmaker was a bad experie...     10761  \n",
            "6172  My experience at General Assembly's Web Develo...     10761  \n",
            "\n",
            "[6167 rows x 11 columns]\n"
          ]
        }
      ],
      "source": [
        "# Check for the presence of special characters or unexpected data\n",
        "for column in trial_df.columns:\n",
        "    # Skip numeric columns\n",
        "    if pd.api.types.is_numeric_dtype(trial_df[column]):\n",
        "        continue\n",
        "\n",
        "    special_characters = trial_df[trial_df[column].astype(str).str.contains(r'[^a-zA-Z0-9\\s]', na=False)]\n",
        "    if not special_characters.empty:\n",
        "        print(f\"Special characters in {column}:\\n{special_characters}\")"
      ]
    },
    {
      "cell_type": "code",
      "execution_count": null,
      "metadata": {},
      "outputs": [],
      "source": [
        "#it seems that the problem in importin is just that there are too many special charachters and the rows containing them are automatically dropped."
      ]
    },
    {
      "cell_type": "code",
      "execution_count": 80,
      "metadata": {},
      "outputs": [
        {
          "name": "stdout",
          "output_type": "stream",
          "text": [
            "          id hostProgramName  graduatingYear  isAlumni  \\\n",
            "0     306638   Not specified            2023     False   \n",
            "1     306549   Not specified            2023     False   \n",
            "2     306505   Not specified            2023     False   \n",
            "3     306504   Not specified            2023     False   \n",
            "4     306451   Not specified            2023      True   \n",
            "...      ...             ...             ...       ...   \n",
            "6168  232579    UX/UI Design            2015      True   \n",
            "6169  232573   Not specified            2015      True   \n",
            "6170  232490   Not specified            2015      True   \n",
            "6171  232206   Not specified            2014      True   \n",
            "6172  231691   Not specified            2013      True   \n",
            "\n",
            "                                    jobTitle  \\\n",
            "0                              Not specified   \n",
            "1                              Not specified   \n",
            "2                              Not specified   \n",
            "3                              Not specified   \n",
            "4                               UX/UI Design   \n",
            "...                                      ...   \n",
            "6168                           Not specified   \n",
            "6169                           Not specified   \n",
            "6170                           Not specified   \n",
            "6171                           Not specified   \n",
            "6172  Software Developer at Cengage Learning   \n",
            "\n",
            "                                                tagline  overallScore  \\\n",
            "0     Very accommodating. Take Springboard if you wa...           3.7   \n",
            "1                   Extensive and well built curriculum           4.3   \n",
            "2     Join if you're looking to structure &amp; Netw...           4.0   \n",
            "3     Join if you're looking to structure &amp; Netw...           4.0   \n",
            "4                                             Wonderful           4.3   \n",
            "...                                                 ...           ...   \n",
            "6168                         GA is great on most levels           4.0   \n",
            "6169  General Assembly UXDI an amazing experience, i...           4.3   \n",
            "6170  Incredible Learning Opportunity for Digital Ma...           5.0   \n",
            "6171          Not The Best Bootcamp I Could Have Chosen           1.7   \n",
            "6172  From 2nd grade teacher to full-stack web devel...           5.0   \n",
            "\n",
            "      curriculum  jobSupport  \\\n",
            "0            4.0         3.0   \n",
            "1            5.0         4.0   \n",
            "2            4.0         4.0   \n",
            "3            4.0         4.0   \n",
            "4            5.0         4.0   \n",
            "...          ...         ...   \n",
            "6168         4.0         4.0   \n",
            "6169         4.0         4.0   \n",
            "6170         5.0         5.0   \n",
            "6171         2.0         1.0   \n",
            "6172         5.0         5.0   \n",
            "\n",
            "                                            review_body school_id  \n",
            "0     When I was looking at which bootcamp to do for...     11035  \n",
            "1     This course is great for beginners. The curric...     11035  \n",
            "2     If you find yourself unsure of where to begin,...     11035  \n",
            "3     If you find yourself unsure of where to begin,...     11035  \n",
            "4     Pros: I found the Springboard bootcamp to be i...     11035  \n",
            "...                                                 ...       ...  \n",
            "6168  Pros: Great environment, phenomenal network, a...     10761  \n",
            "6169  I was beyond impressed by my experience at Gen...     10761  \n",
            "6170  I recently completed an Ad Optimization part t...     10761  \n",
            "6171  I wouldn't say that Bitmaker was a bad experie...     10761  \n",
            "6172  My experience at General Assembly's Web Develo...     10761  \n",
            "\n",
            "[6173 rows x 11 columns]\n"
          ]
        }
      ],
      "source": [
        "special_characters = r'[!@#$%^&*()_+{}|:\"<>?\\\\[\\];,./\\']'\n",
        "\n",
        "# Identify string columns\n",
        "string_columns = trial_df.select_dtypes(include='object').columns\n",
        "\n",
        "for columns in string_columns:\n",
        "    trial_df[column] = trial_df[column].astype(str).apply(lambda x: x.replace(special_characters, ''))\n",
        "\n",
        "# Display the updated DataFrame\n",
        "print(trial_df)\n"
      ]
    },
    {
      "cell_type": "code",
      "execution_count": 82,
      "metadata": {},
      "outputs": [],
      "source": [
        "duplicates = trial_df[trial_df.duplicated()]\n",
        "if not duplicates.empty:\n",
        "    print(\"Duplicate rows:\\n\", duplicates)"
      ]
    },
    {
      "cell_type": "code",
      "execution_count": 84,
      "metadata": {},
      "outputs": [
        {
          "data": {
            "text/plain": [
              "Index(['hostProgramName', 'jobTitle', 'tagline', 'review_body', 'school_id'], dtype='object')"
            ]
          },
          "execution_count": 84,
          "metadata": {},
          "output_type": "execute_result"
        }
      ],
      "source": [
        "# Identify string columns\n",
        "string_columns = trial_df.select_dtypes(include='object').columns\n",
        "string_columns"
      ]
    },
    {
      "cell_type": "code",
      "execution_count": null,
      "metadata": {},
      "outputs": [],
      "source": [
        "#df.to_csv('trial.csv', index=False)"
      ]
    },
    {
      "cell_type": "code",
      "execution_count": null,
      "metadata": {},
      "outputs": [
        {
          "data": {
            "text/plain": [
              "id                   int64\n",
              "hostProgramName     object\n",
              "graduatingYear       int64\n",
              "isAlumni              bool\n",
              "jobTitle            object\n",
              "tagline             object\n",
              "overallScore       float64\n",
              "curriculum         float64\n",
              "jobSupport         float64\n",
              "review_body         object\n",
              "school_id            int64\n",
              "dtype: object"
            ]
          },
          "execution_count": 200,
          "metadata": {},
          "output_type": "execute_result"
        }
      ],
      "source": [
        "df.dtypes"
      ]
    }
  ],
  "metadata": {
    "colab": {
      "provenance": []
    },
    "kernelspec": {
      "display_name": "Python 3",
      "language": "python",
      "name": "python3"
    },
    "language_info": {
      "codemirror_mode": {
        "name": "ipython",
        "version": 3
      },
      "file_extension": ".py",
      "mimetype": "text/x-python",
      "name": "python",
      "nbconvert_exporter": "python",
      "pygments_lexer": "ipython3",
      "version": "3.11.4"
    }
  },
  "nbformat": 4,
  "nbformat_minor": 0
}
