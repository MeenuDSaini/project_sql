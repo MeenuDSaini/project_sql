{
 "cells": [
  {
   "cell_type": "code",
   "execution_count": null,
   "metadata": {},
   "outputs": [],
   "source": [
    "# Libraries\n",
    "import numpy as np\n",
    "import pandas as pd \n",
    "import matplotlib.pyplot as plt\n",
    "import seaborn as sns\n",
    "import plotly.express as px\n",
    "import plotly.graph_objects as go\n",
    "import plotly.subplots as sp\n",
    "%matplotlib inline"
   ]
  },
  {
   "cell_type": "code",
   "execution_count": null,
   "metadata": {},
   "outputs": [],
   "source": [
    "import getpass\n",
    "\n",
    "# Add your password\n",
    "password = getpass.getpass()"
   ]
  },
  {
   "cell_type": "code",
   "execution_count": null,
   "metadata": {},
   "outputs": [],
   "source": [
    "# open the door between python and my databases ->  I specified Sakila\n",
    "cnx = mysql.connector.connect(user='root', password=password, database='sql_project', port=3306)"
   ]
  },
  {
   "cell_type": "code",
   "execution_count": null,
   "metadata": {},
   "outputs": [],
   "source": [
    "# Check if the connection was successful\n",
    "cnx.is_connected()"
   ]
  },
  {
   "cell_type": "code",
   "execution_count": null,
   "metadata": {},
   "outputs": [],
   "source": [
    "# We need to define the object we will use to interact with the database\n",
    "cursor = cnx.cursor(buffered=True) # buffered is to avoid errors"
   ]
  },
  {
   "cell_type": "code",
   "execution_count": null,
   "metadata": {},
   "outputs": [],
   "source": [
    "# Get all the records from sakila actor table\n",
    "query = 'SELECT * FROM sql_project.comments'\n",
    "cursor.execute(query)\n",
    "results = cursor.fetchall()"
   ]
  },
  {
   "cell_type": "code",
   "execution_count": null,
   "metadata": {},
   "outputs": [],
   "source": [
    "# Review the results\n",
    "results"
   ]
  },
  {
   "cell_type": "code",
   "execution_count": null,
   "metadata": {},
   "outputs": [],
   "source": [
    "# Convert results to dataframe\n",
    "comments_trial = pd.DataFrame(results)\n",
    "comments_trial"
   ]
  },
  {
   "cell_type": "code",
   "execution_count": null,
   "metadata": {},
   "outputs": [],
   "source": [
    "# Extract directly into pandas\n",
    "comments_trial = pd.read_sql_query(query, con=cnx)\n",
    "comments_trial"
   ]
  },
  {
   "cell_type": "code",
   "execution_count": null,
   "metadata": {},
   "outputs": [],
   "source": [
    "# Recreate a full name column\n",
    "comments_trial_corr = comments_trial_corr(method='spearman')\n",
    "comments_trial_corr.style_background_gradient(cmap='RdYlGn', format='{:, .2f}')"
   ]
  },
  {
   "cell_type": "code",
   "execution_count": null,
   "metadata": {},
   "outputs": [],
   "source": [
    "'''maybe if we import comments.csv (with the text) and try to add the columns and values with python connectors?'''\n",
    "\n",
    "# Add all the records from the actors dataframe\n",
    "#for actor_id, actor_name in zip(actors_df['actor_id'], actors_df['full_name']):\n",
    "    #query = f\"INSERT INTO demo(student_id, student_name) VALUES ('{actor_id}', '{actor_name}')\"\n",
    "    #cursor.execute(query)"
   ]
  },
  {
   "cell_type": "code",
   "execution_count": null,
   "metadata": {},
   "outputs": [],
   "source": [
    "# once you have connected to sql and done everything\n",
    "# saving any changes you did on the database\n",
    "cnx.commit()\n",
    "# clear the cursor\n",
    "cursor.close()\n",
    "\n",
    "# closes the door between python and SQL\n",
    "cnx.close()"
   ]
  },
  {
   "cell_type": "code",
   "execution_count": null,
   "metadata": {},
   "outputs": [],
   "source": [
    "# Check if we still have the connection\n",
    "cnx.is_connected()"
   ]
  }
 ],
 "metadata": {
  "language_info": {
   "name": "python"
  }
 },
 "nbformat": 4,
 "nbformat_minor": 2
}
